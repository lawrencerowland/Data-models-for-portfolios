{
 "cells": [
  {
   "cell_type": "markdown",
   "metadata": {},
   "source": [
    "# Setting up a Graph Database for the US Government IT Portfolios"
   ]
  },
  {
   "cell_type": "code",
   "execution_count": 1,
   "metadata": {},
   "outputs": [
    {
     "name": "stderr",
     "output_type": "stream",
     "text": [
      "Matplotlib is building the font cache; this may take a moment.\n"
     ]
    }
   ],
   "source": [
    "import pandas as pd\n",
    "import numpy as np\n",
    "import dabl\n",
    "%matplotlib inline\n",
    "import os\n",
    "from dabl import plot\n",
    "import matplotlib.pyplot as plt\n",
    "import datetime as dt"
   ]
  },
  {
   "cell_type": "code",
   "execution_count": 2,
   "metadata": {},
   "outputs": [],
   "source": [
    "directory = '/Users/lawrence/Documents/GitHub/data_files_for_access/ProjectHack3data_Challenge9_from_Said_school/2013/'"
   ]
  },
  {
   "cell_type": "markdown",
   "metadata": {},
   "source": [
    "# Bring in Projects file"
   ]
  },
  {
   "cell_type": "code",
   "execution_count": 3,
   "metadata": {},
   "outputs": [],
   "source": [
    "Projects=pd.read_csv(directory+'Projects.csv', encoding= 'unicode_escape')"
   ]
  },
  {
   "cell_type": "code",
   "execution_count": 4,
   "metadata": {},
   "outputs": [],
   "source": [
    "Projects=Projects.drop(['Agency Project ID','Project Description','Lifecycle Cost', 'Cost Variance (%)','Projected/Actual Cost ($ M)','Updated Time','Unique Project ID'],axis=1)"
   ]
  },
  {
   "cell_type": "code",
   "execution_count": 5,
   "metadata": {},
   "outputs": [],
   "source": [
    "Projects['Completion Date (B1)']=Projects['Completion Date (B1)'].astype('datetime64')\n",
    "Projects['Planned Project Completion Date (B2)']=Projects['Planned Project Completion Date (B2)'].astype('datetime64')\n",
    "Projects['Start Date']=Projects['Start Date'].astype('datetime64')\n",
    "Projects['Projected/Actual Project Completion Date (B2)']=Projects['Projected/Actual Project Completion Date (B2)'].astype('datetime64')\n",
    "Projects['Updated Date']=Projects['Updated Date'].astype('datetime64')\n",
    "Projects['Business Case ID']=Projects['Business Case ID'].astype('category')\n",
    "Projects['Agency Code']=Projects['Agency Code'].astype('category')\n",
    "Projects['Project ID']=Projects['Project ID'].astype('category')"
   ]
  },
  {
   "cell_type": "markdown",
   "metadata": {},
   "source": [
    "In nearly all cases, Completion Date (B1) > Planned Project Completion Date (B2)\n",
    "\n",
    "In some cases 'Projected/Actual Project Completion Date (B2) < Planned Project Completion Date (B2)\n",
    "But in most cases, it is the other way around , so that Planned < Project /Actual i,e is earlier\n",
    "\n",
    "And in most cases, where not equal: Projected/Actual Project Completion Date (B2)' <   'Completion Date (B1)'\n",
    "\n",
    "therefore, Planning progresses in this order \n",
    "\n",
    "1. Planned Project Completion Date (B2)\n",
    "2. Projected/Actual Project Completion Date (B2)\n",
    "3. Completion Date (B1) \n",
    "\n",
    "So I will create:\n",
    "\n",
    "- Planned Duration\n",
    " - Project Delay, which is the worst Project Delay I can find\n",
    "Schedule variance appears to be Planned Project Completion Date (B2) MINUS 'Projected/Actual Project Completion Date (B2)\n",
    "and Hence is often listed as Negative.\n",
    "Which is okay, so Negative just means that Progress was underwhelming as normal.\n",
    "So I can drop schedule variance and schedule  variance % because we have calculated it better as Project_Delay"
   ]
  },
  {
   "cell_type": "code",
   "execution_count": 6,
   "metadata": {},
   "outputs": [],
   "source": [
    "# worked this out by a variety of boolean mixing such as:\n",
    "# constraint=(Projects['Projected/Actual Project Completion Date (B2)']<Projects['Completion Date (B1)'])&(pd.notna(Projects['Projected/Actual Project Completion Date (B2)']))&(pd.notna(Projects['Completion Date (B1)']))\n",
    "# Projects [constraint]"
   ]
  },
  {
   "cell_type": "markdown",
   "metadata": {},
   "source": [
    "Projected/Actual more or less the same as Planned cost.\n",
    "- sometimes a little more which makes sense\n",
    "- a few with 0s which is okay\n",
    "- so maybe best to drop 'Projected/Actual'\n",
    "\n",
    "Lifecycle cost is:\n",
    "- often zero\n",
    "- mostly identical to Planned\n",
    "- so best to drop this too. \n",
    "Looks like mostly Cost Variance +Planned Cost = Project/Actual Cost\n",
    "i.e. just keep Planned cost and Cost Variance"
   ]
  },
  {
   "cell_type": "code",
   "execution_count": 7,
   "metadata": {},
   "outputs": [],
   "source": [
    "# worked this out from variants of: \n",
    "# plt.scatter ((Projects['Planned Cost ($ M)'],Projects['Cost Variance ($ M)']))"
   ]
  },
  {
   "cell_type": "code",
   "execution_count": 6,
   "metadata": {},
   "outputs": [],
   "source": [
    "Projects['Planned_Duration']=(Projects['Planned Project Completion Date (B2)']-Projects['Start Date']).dt.days\n",
    "Projects['Project_delay']=(np.maximum(Projects['Projected/Actual Project Completion Date (B2)']-Projects['Planned Project Completion Date (B2)'],Projects['Completion Date (B1)']-Projects['Planned Project Completion Date (B2)'])).dt.days"
   ]
  },
  {
   "cell_type": "code",
   "execution_count": 7,
   "metadata": {},
   "outputs": [],
   "source": [
    "Projects=Projects.drop(['Planned Project Completion Date (B2)','Completion Date (B1)','Projected/Actual Project Completion Date (B2)'],axis=1)"
   ]
  },
  {
   "cell_type": "code",
   "execution_count": 8,
   "metadata": {},
   "outputs": [],
   "source": [
    "Projects['Start_days_after_2000']=(Projects['Start Date']-pd.Timestamp('2000-01-01')).dt.days"
   ]
  },
  {
   "cell_type": "code",
   "execution_count": 9,
   "metadata": {},
   "outputs": [],
   "source": [
    "Projects=Projects.drop(['Schedule Variance (%)','Schedule Variance (in days)'],axis=1)"
   ]
  },
  {
   "cell_type": "code",
   "execution_count": 10,
   "metadata": {},
   "outputs": [],
   "source": [
    "Projects['Updated Date']=(Projects['Updated Date']-Projects['Start Date']).dt.days # where this is now the no of days the update happened after start date"
   ]
  },
  {
   "cell_type": "code",
   "execution_count": 33,
   "metadata": {},
   "outputs": [],
   "source": [
    "Constraint=Projects['Agency Code']==9"
   ]
  },
  {
   "cell_type": "code",
   "execution_count": 35,
   "metadata": {},
   "outputs": [],
   "source": [
    "Projects=Projects[Constraint]"
   ]
  },
  {
   "cell_type": "markdown",
   "metadata": {},
   "source": [
    "## Work out Data Structure as you go. \n",
    "Agency >> Investment (w Business Case ) >> Project ( Start, Completion, Cost, Variances)\n",
    "\n",
    "## Create a basic example in Neo4j inline\n",
    "\n",
    "CREATE (m:Agency {name:'Dept Agriculture',Code:5})\n",
    "CREATE (n:Investment {name:'AMS Infrastructure WAN and DMZ (AMSWAN)', Identifier:'005-000001723'})\n",
    "CREATE (o:Project {name:'Virtualization', Id:657,Cost_Variance:0,Planned_Cost:0.179,Updated_Date:60,Planned_Duration:182, Project_delay:0,Start_days_after_2000:4291})\n",
    "CREATE (m)-[:invests]->(n)\n",
    "CREATE (n)-[:pays_for]->(o)\n",
    "\n",
    "After testing this, I can bring in CSV: see further below"
   ]
  },
  {
   "cell_type": "markdown",
   "metadata": {},
   "source": [
    "## Export to CSV en route to Neo4j"
   ]
  },
  {
   "cell_type": "code",
   "execution_count": 36,
   "metadata": {},
   "outputs": [],
   "source": [
    "Projects=Projects.rename(columns={\"Agency Name\": \"Agency_Name\", \"Agency Code\":\"Agency_Code\",'Investment Title':'Investment_Title','Unique Investment Identifier':'Unique_Investment_Identifier','Project Name':'Project_Name','Project ID':'Project_ID','Start Date':'Start_Date', 'Cost Variance ($ M)':'Cost_Variance','Planned Cost ($ M)':'PlannedCost','Updated Date':'Updated_Date','Business Case ID':'Business_Case_ID'})  "
   ]
  },
  {
   "cell_type": "code",
   "execution_count": 120,
   "metadata": {},
   "outputs": [],
   "source": [
    "Projects=Projects.dropna()"
   ]
  },
  {
   "cell_type": "code",
   "execution_count": 121,
   "metadata": {},
   "outputs": [],
   "source": [
    "Projects.to_csv(directory+'Health_Projects_Out.csv', index=False)"
   ]
  },
  {
   "cell_type": "markdown",
   "metadata": {},
   "source": [
    "#Cypher code for Neo4j\n",
    "LOAD CSV WITH HEADERS FROM 'file:///Health_Projects_Out.csv' AS row\n",
    "MERGE (m:Agency {name:row.Agency_Name,Code:row.Agency_Code})\n",
    "MERGE (n:Investment {name:row.Investment_Title,Identifier:row.Unique_Investment_Identifier,Business_Case:row.Business_Case_ID})\n",
    "MERGE (o:Project {name:row.Project_Name,Id:row.Project_ID,Cost_Variance:toFloat(row.Cost_Variance),Planned_Cost:toFloat(row.PlannedCost),Updated_Date:toInteger(row.Updated_Date),Planned_Duration:toInteger(row.Planned_Duration),Project_delay:toInteger(row.Project_delay),Start_days_after_2000:toInteger(row.Start_days_after_2000)})\n",
    "MERGE (m)-[:invests]->(n)\n",
    "MERGE (n)-[:pays_for]->(o)"
   ]
  },
  {
   "cell_type": "markdown",
   "metadata": {},
   "source": [
    "# Pull in strategic investment information"
   ]
  },
  {
   "cell_type": "code",
   "execution_count": 42,
   "metadata": {},
   "outputs": [],
   "source": [
    "Strategy=pd.read_csv(directory+'Exhibit300A.csv', encoding= 'unicode_escape')"
   ]
  },
  {
   "cell_type": "code",
   "execution_count": 43,
   "metadata": {},
   "outputs": [],
   "source": [
    "Strategy=Strategy.drop(['Investment Title (Exhibit 53)','Investment Title (Exhibit 300)','Date of Last Change to Activities','Date of Last Update to Activities','Date of Last Update to Activities','Date of Last Update to Activities','Date of Last Change to Contracts','Date of Last Change to Performance Metrics','Date of Last Tech Stat','Budget Year','Date of Last Investment Detail Update','Investment Auto Submission Date'],axis=1)"
   ]
  },
  {
   "cell_type": "code",
   "execution_count": 44,
   "metadata": {},
   "outputs": [],
   "source": [
    "Strategy=Strategy.drop(['Data Freshness','Date of Last Change to CIO Evaluation','Date of Last Update to CIO Evaluation'],axis=1)"
   ]
  },
  {
   "cell_type": "code",
   "execution_count": 45,
   "metadata": {},
   "outputs": [],
   "source": [
    "Strategy=Strategy.drop(['IPT Charter Date','Date Investment First Submitted'],axis=1)"
   ]
  },
  {
   "cell_type": "code",
   "execution_count": 46,
   "metadata": {},
   "outputs": [],
   "source": [
    "Strategy=Strategy.drop(['Business Case ID'],axis=1)"
   ]
  },
  {
   "cell_type": "code",
   "execution_count": 47,
   "metadata": {},
   "outputs": [],
   "source": [
    "Strategy=Strategy.drop(['CIO Evaluation Color'],axis=1)"
   ]
  },
  {
   "cell_type": "code",
   "execution_count": 48,
   "metadata": {},
   "outputs": [],
   "source": [
    "Strategy['Date of Last Baseline']=Strategy['Date of Last Baseline'].astype('datetime64')"
   ]
  },
  {
   "cell_type": "code",
   "execution_count": 38,
   "metadata": {},
   "outputs": [],
   "source": [
    "#Strategy=Strategy.dropna()"
   ]
  },
  {
   "cell_type": "code",
   "execution_count": 49,
   "metadata": {},
   "outputs": [],
   "source": [
    "Strategy=Strategy.rename(columns={'Agency Name':'Agency_Name',\"Bureau Name\": \"Bureau_Name\",'Bureau Code':'Bureau_Code','Number of changes to Baseline':'Number_of_changes_to_Baseline','Evaluation (by Agency CIO)':'Evalu)ation_by_CIO\"}'})"
   ]
  },
  {
   "cell_type": "code",
   "execution_count": 50,
   "metadata": {},
   "outputs": [],
   "source": [
    "Strategy=Strategy.rename(columns={'Evalu)ation_by_CIO\"}':'Evaluation_by_CIO','Date of Last Baseline':'Date_Last_Baseline'})"
   ]
  },
  {
   "cell_type": "code",
   "execution_count": 54,
   "metadata": {},
   "outputs": [],
   "source": [
    "Constraint=Strategy['Agency Code']==9"
   ]
  },
  {
   "cell_type": "code",
   "execution_count": 56,
   "metadata": {},
   "outputs": [],
   "source": [
    "Strategy=Strategy[Constraint]"
   ]
  },
  {
   "cell_type": "markdown",
   "metadata": {},
   "source": [
    "## Work out Data Structure as you go. \n",
    "## This results in the following Cypher code to be placed into Neo4j\n",
    "LOAD CSV WITH HEADERS FROM 'file:///Health_Strategy_Out.csv' AS row \n",
    "MERGE (m:Agency {Code:row.Agency_Code})\n",
    "MERGE (o:Bureau {Code:row.Bureau_Code,Name:row.Bureau_Name})\n",
    "MERGE (n:Investment {Identifier:row.Unique_Investment_Identifier})\n",
    "CREATE (m)-[:owns]->(o)\n",
    "CREATE (o)-[:responsible_for]->(n)\n",
    "SET n.Summary=row.Brief_Summary\n",
    "SET n.Performance_Gap=row.Summary_of_Performance_Gap\n",
    "SET n.Evaluation_by_CIO=row.Evaluation_by_CIO\n",
    "SET n.Changes_to_Baseline=row.Number_of_changes_to_Baseline\n",
    "SET n.Last_Baseline=row.Date_Last_Baseline\n",
    "\n",
    "LOAD CSV WITH HEADERS FROM 'file:///Health_Strategy_Out.csv' AS row \n",
    "MATCH (m:Agency {Code:row.Agency_Code})\n",
    "SET m.name = row.Agency_Name\n",
    "RETURN m\n",
    "\n",
    "\"MERGE matches on the entire pattern you specify within a single clause...The solution is to MERGE on the unique property and then use SET to update additional properties."
   ]
  },
  {
   "cell_type": "code",
   "execution_count": null,
   "metadata": {},
   "outputs": [],
   "source": []
  },
  {
   "cell_type": "code",
   "execution_count": 57,
   "metadata": {},
   "outputs": [],
   "source": [
    "Strategy=Strategy.rename(columns={'Unique Investment Identifier':'Unique_Investment_Identifier','Brief Summary':'Brief_Summary',\n",
    "'Summary of Performance Gap':'Summary_of_Performance_Gap','Agency Code':'Agency_Code'})"
   ]
  },
  {
   "cell_type": "code",
   "execution_count": 58,
   "metadata": {},
   "outputs": [],
   "source": [
    "Strategy.to_csv(directory+'Health_Strategy_Out.csv', index=False)"
   ]
  },
  {
   "cell_type": "markdown",
   "metadata": {},
   "source": [
    "# Bring in Contracts file"
   ]
  },
  {
   "cell_type": "code",
   "execution_count": 59,
   "metadata": {},
   "outputs": [],
   "source": [
    "Contracts=pd.read_csv(directory+'Contracts.csv', encoding= 'unicode_escape')"
   ]
  },
  {
   "cell_type": "code",
   "execution_count": 61,
   "metadata": {},
   "outputs": [],
   "source": [
    "Constraint=Contracts['Agency Code']==9"
   ]
  },
  {
   "cell_type": "code",
   "execution_count": 62,
   "metadata": {},
   "outputs": [],
   "source": [
    "Contracts=Contracts[Constraint]"
   ]
  },
  {
   "cell_type": "code",
   "execution_count": 63,
   "metadata": {},
   "outputs": [],
   "source": [
    "Contracts=Contracts.drop(['Business Case ID','Agency Code','Agency Name','Investment Title','Agency Contract ID','Contract Status','Contracting Agency ID','Contract Number (PIID)','Performance Based Contract (USAspending)','Contract Start Date (USAspending)','Contract End Date (USAspending)','Contract Compete (USAspending)','Base Contract ID (USAspending)'\n",
    "        ,'Identifying Agency ID (USAspending)','Transaction Number (USAspending)','Timestamp (Base Contract)'],axis=1)"
   ]
  },
  {
   "cell_type": "code",
   "execution_count": 64,
   "metadata": {},
   "outputs": [],
   "source": [
    "Contracts=Contracts.drop(['IDV Agency ID','Match found in USAspending','Solicitation ID (USAspending)'],axis=1)"
   ]
  },
  {
   "cell_type": "code",
   "execution_count": 65,
   "metadata": {},
   "outputs": [],
   "source": [
    "Contracts=Contracts.rename(columns={'Unique Investment Identifier':'Unique_Investment_Identifier','Contract ID':'Contract_ID','IDV PIID':'IDV_PIID','Vendor Name (USAspending)':'Vendor_name','Action Obligation Amount (In $ million) (USAspending)':'Contract_size','Contract Description (USAspending)':'Contract_Description'})"
   ]
  },
  {
   "cell_type": "markdown",
   "metadata": {},
   "source": [
    "## Work out Data Structure as you go. \n",
    "## This results in the following Cypher code to be placed into Neo4j"
   ]
  },
  {
   "cell_type": "code",
   "execution_count": 122,
   "metadata": {},
   "outputs": [],
   "source": [
    "Contracts=Contracts.dropna()"
   ]
  },
  {
   "cell_type": "code",
   "execution_count": 123,
   "metadata": {},
   "outputs": [],
   "source": [
    "Contracts.to_csv(directory+'Health_Contracts_Out.csv', index=False)"
   ]
  },
  {
   "cell_type": "code",
   "execution_count": null,
   "metadata": {},
   "outputs": [],
   "source": [
    "LOAD CSV WITH HEADERS FROM 'file:///Health_Contracts_Out.csv' AS row \n",
    "MERGE (m:Contract {ID:row.Contract_ID})\n",
    "MERGE (n:Investment {Identifier:row.Unique_Investment_Identifier})\n",
    "MERGE (o:Supplier {ID:row.IDV_PIID})\n",
    "SET m.Description=row.Contract_Description\n",
    "SET m.Contract_size=row.Contract_size\n",
    "SET o.name=row.Vendor_name\n",
    "CREATE (n)-[:lets_contract]->(m)\n",
    "CREATE (n)-[:uses_Supplier]->(o)\n",
    "CREATE (o)-[:delivers]->(m)\n"
   ]
  },
  {
   "cell_type": "markdown",
   "metadata": {},
   "source": [
    "# Bring in Metrics file"
   ]
  },
  {
   "cell_type": "code",
   "execution_count": 68,
   "metadata": {},
   "outputs": [],
   "source": [
    "Metrics=pd.read_csv(directory+'Performance_Metrics.csv', encoding= 'unicode_escape')"
   ]
  },
  {
   "cell_type": "code",
   "execution_count": 69,
   "metadata": {},
   "outputs": [],
   "source": [
    "Metrics=Metrics.drop(['Business Case ID','Agency Name','Agency Performance Metric ID','Comment','Updated Date','Updated Time','Reporting Frequency'],axis=1)"
   ]
  },
  {
   "cell_type": "code",
   "execution_count": 70,
   "metadata": {},
   "outputs": [],
   "source": [
    "Metrics=Metrics.drop(['Target for PY','Actual for PY','Most Recent Actual Results','Measurement Condition'],axis=1)"
   ]
  },
  {
   "cell_type": "code",
   "execution_count": 71,
   "metadata": {},
   "outputs": [],
   "source": [
    "Metrics=Metrics.rename(columns={'Unique Investment Identifier':'Unique_Investment_Identifier','Performance Metric ID':'Performance_Metric_ID','Metric Description':'Metric_Description','Unit of Measure':'Unit_of_Measure','FEA Performance Measurement Category Mapping':'Measurement_category','Actuals have Met/Not Met Target':'Metric_results'})"
   ]
  },
  {
   "cell_type": "code",
   "execution_count": null,
   "metadata": {},
   "outputs": [],
   "source": [
    "#Metrics=Metrics.dropna()"
   ]
  },
  {
   "cell_type": "code",
   "execution_count": 72,
   "metadata": {},
   "outputs": [],
   "source": [
    "Constraint=Metrics['Agency Code']==9"
   ]
  },
  {
   "cell_type": "code",
   "execution_count": 73,
   "metadata": {},
   "outputs": [],
   "source": [
    "Metrics=Metrics[Constraint]"
   ]
  },
  {
   "cell_type": "code",
   "execution_count": 75,
   "metadata": {},
   "outputs": [],
   "source": [
    "Metrics.to_csv(directory+'Health_Metrics_Out.csv', index=False)"
   ]
  },
  {
   "cell_type": "markdown",
   "metadata": {},
   "source": [
    "from this, we know that Metric ID is unique\n",
    "constraint=(Metrics.duplicated(subset='Performance_Metric_ID', keep=False))==True\n",
    "Metrics[constraint]"
   ]
  },
  {
   "cell_type": "markdown",
   "metadata": {},
   "source": [
    "## Work out Data Structure as you go. \n",
    "## This results in the following Cypher code to be placed into Neo4j\n",
    "LOAD CSV WITH HEADERS FROM 'file:///Health_Metrics_Out.csv' AS row \n",
    "MERGE (m:Metric {ID:row.Performance_Metric_ID})\n",
    "MERGE (n:Investment {Identifier:row.Unique_Investment_Identifier})\n",
    "SET m.Description=row.Metric_Description\n",
    "SET m.Measurement_category=row.Measurement_category\n",
    "SET m.Metric_results=row.Metric_results\n",
    "MERGE (n)-[:judged_by]->(m)"
   ]
  },
  {
   "cell_type": "markdown",
   "metadata": {},
   "source": [
    "# Bring in Business Mapping"
   ]
  },
  {
   "cell_type": "code",
   "execution_count": 76,
   "metadata": {},
   "outputs": [],
   "source": [
    "Mapping=pd.read_csv(directory+'Exhibit53.csv', encoding= 'unicode_escape')"
   ]
  },
  {
   "cell_type": "code",
   "execution_count": 77,
   "metadata": {},
   "outputs": [],
   "source": [
    "Constraint=Mapping['Agency Code']==9"
   ]
  },
  {
   "cell_type": "code",
   "execution_count": 79,
   "metadata": {},
   "outputs": [],
   "source": [
    "Mapping=Mapping[Constraint]"
   ]
  },
  {
   "cell_type": "code",
   "execution_count": 80,
   "metadata": {},
   "outputs": [],
   "source": [
    "Mapping=Mapping.drop(['Agency Code','Agency Name','Previous UPI','Investment Category','Bureau Code','Bureau Name','Part of Exhibit 53'],axis=1)"
   ]
  },
  {
   "cell_type": "code",
   "execution_count": 81,
   "metadata": {},
   "outputs": [],
   "source": [
    "Mapping=Mapping.drop(['Mission Delivery And Management Support Area','Line Item Descriptor','Investment Title','Investment Description','Updated Date'],axis=1)"
   ]
  },
  {
   "cell_type": "code",
   "execution_count": 82,
   "metadata": {},
   "outputs": [],
   "source": [
    "Mapping=Mapping.drop(['Budget Year','XML Request ID','Updated Time','O&M BY Contributions ($ M)','O&M BY Agency Funding ($ M)','O&M CY Contributions ($ M)'],axis=1)"
   ]
  },
  {
   "cell_type": "code",
   "execution_count": 83,
   "metadata": {},
   "outputs": [],
   "source": [
    "Mapping=Mapping.drop(['O&M CY Agency Funding ($ M)','O&M PY Contributions ($ M)','O&M PY Agency Funding ($ M)','DME BY Contributions ($ M)'],axis=1)"
   ]
  },
  {
   "cell_type": "code",
   "execution_count": 84,
   "metadata": {},
   "outputs": [],
   "source": [
    "Mapping=Mapping.drop(['Segment Architecture - Agency Segment','Total IT Spending FY2011 (PY) ($ M)','Total IT Spending FY2012 (CY) ($ M)'],axis=1)"
   ]
  },
  {
   "cell_type": "code",
   "execution_count": 85,
   "metadata": {},
   "outputs": [],
   "source": [
    "Mapping=Mapping.drop(['DME PY Contributions ($ M)','DME CY Contributions ($ M)','DME BY Agency Funding ($ M)'],axis=1)"
   ]
  },
  {
   "cell_type": "code",
   "execution_count": 86,
   "metadata": {},
   "outputs": [],
   "source": [
    "Mapping=Mapping.rename(columns={'Unique Investment Identifier':'Unique_Investment_Identifier','Type of Investment':'Investment_type'})"
   ]
  },
  {
   "cell_type": "code",
   "execution_count": 87,
   "metadata": {},
   "outputs": [],
   "source": [
    "Mapping=Mapping.rename(columns={'FEA BRM Mapping - Sub-Function':'Sub-Function','FEA BRM Mapping - Primary Function':'Function','FEA BRM Mapping - Business Area':'Business_Area'})"
   ]
  },
  {
   "cell_type": "code",
   "execution_count": 88,
   "metadata": {},
   "outputs": [],
   "source": [
    "Mapping=Mapping.rename(columns={'Service Code Mapping - Component':'Service_Component','Service Code Mapping - Primary Function':'Service','Function':'Business Function'})"
   ]
  },
  {
   "cell_type": "code",
   "execution_count": 89,
   "metadata": {},
   "outputs": [],
   "source": [
    "Mapping=Mapping.rename(columns={'Service Code Mapping - Business Area':'Service Area','Segment Architecture - Federal Standard Segment':'Architecture_code'})"
   ]
  },
  {
   "cell_type": "code",
   "execution_count": 90,
   "metadata": {},
   "outputs": [],
   "source": [
    "Mapping=Mapping.drop(['Total IT Spending FY2013 (BY) ($ M)','DME PY Agency Funding ($ M)'],axis=1)"
   ]
  },
  {
   "cell_type": "code",
   "execution_count": 91,
   "metadata": {},
   "outputs": [],
   "source": [
    "Mapping=Mapping.rename(columns={'DME CY Agency Funding ($ M)':'Enhancement_spend_$m'})"
   ]
  },
  {
   "cell_type": "code",
   "execution_count": 92,
   "metadata": {},
   "outputs": [],
   "source": [
    "Mapping=Mapping.rename(columns={'Enhancement_spend_$M)':'Enhancement_spend_$m'})"
   ]
  },
  {
   "cell_type": "code",
   "execution_count": 93,
   "metadata": {},
   "outputs": [],
   "source": [
    "Mapping=Mapping.rename(columns={'Service Area':'Service_Area'})"
   ]
  },
  {
   "cell_type": "code",
   "execution_count": 94,
   "metadata": {},
   "outputs": [],
   "source": [
    "Mapping=Mapping.rename(columns={'Business Function':'Business_Function'})"
   ]
  },
  {
   "cell_type": "code",
   "execution_count": null,
   "metadata": {},
   "outputs": [],
   "source": [
    "#Mapping=Mapping.dropna()"
   ]
  },
  {
   "cell_type": "code",
   "execution_count": 95,
   "metadata": {},
   "outputs": [],
   "source": [
    "Mapping.to_csv(directory+'Health_Mapping_Out.csv', index=False)"
   ]
  },
  {
   "cell_type": "markdown",
   "metadata": {},
   "source": [
    "## Code for Neo4j\n",
    "LOAD CSV WITH HEADERS FROM 'file:///Health_Mapping_Out.csv' AS row \n",
    "MERGE (n:Investment {Identifier:row.Unique_Investment_Identifier})\n",
    "SET n.Enhancement_spend_$m=toFloat(row.Enhancement_spend_$m)\n",
    "MERGE (o:Service {name:row.Service})\n",
    "MERGE (p:Business_Area {name:row.Business_Area})\n",
    "MERGE (q:Business_Function {name:row.Business_Function})\n",
    "SET n.Investment_type=row.Investment_type\n",
    "MERGE (n)-[:has_business_function]->(q)\n",
    "MERGE (q)-[:serves]->(p)\n",
    "MERGE (n)-[:is_a_type_of]->(o)"
   ]
  },
  {
   "cell_type": "markdown",
   "metadata": {},
   "source": [
    "# Bring in activities"
   ]
  },
  {
   "cell_type": "code",
   "execution_count": 96,
   "metadata": {},
   "outputs": [],
   "source": [
    "Activities=pd.read_csv(directory+'Activities.csv', encoding= 'unicode_escape')"
   ]
  },
  {
   "cell_type": "code",
   "execution_count": 97,
   "metadata": {},
   "outputs": [],
   "source": [
    "Activities=Activities.drop(['Agency Name','Business Case ID','Investment Title','Date of Last Change','Baseline ID'],axis=1)"
   ]
  },
  {
   "cell_type": "code",
   "execution_count": 98,
   "metadata": {},
   "outputs": [],
   "source": [
    "Activities=Activities.drop(['Cost Variance','Cost Variance Percent'],axis=1)"
   ]
  },
  {
   "cell_type": "code",
   "execution_count": 175,
   "metadata": {},
   "outputs": [],
   "source": [
    "# Cost Variance and Cost % are unreliable: they give different signs, so dropped"
   ]
  },
  {
   "cell_type": "code",
   "execution_count": 99,
   "metadata": {},
   "outputs": [],
   "source": [
    "Activities=Activities.drop(['Structure ID','Schedule Variance (in days)','Schedule Variance Percent','Schedule Duration (in days)'],axis=1)"
   ]
  },
  {
   "cell_type": "code",
   "execution_count": 100,
   "metadata": {},
   "outputs": [],
   "source": [
    "Constraint=Activities['Agency Code']==9"
   ]
  },
  {
   "cell_type": "code",
   "execution_count": 101,
   "metadata": {},
   "outputs": [],
   "source": [
    "Activities=Activities[Constraint]"
   ]
  },
  {
   "cell_type": "code",
   "execution_count": 102,
   "metadata": {},
   "outputs": [],
   "source": [
    "Activities=Activities.dropna(subset=['Unique Investment Identifier','Agency Code','Agency Activity ID','Project ID','Activity Name','Start Date Planned','Completion Date Planned',\n",
    "                                     'Total Costs Planned','Activity Status','Has No Child Activity','Date of Last Update','Unique Activity ID'])"
   ]
  },
  {
   "cell_type": "code",
   "execution_count": 103,
   "metadata": {},
   "outputs": [],
   "source": [
    "Activities=Activities.drop(['Agency Activity ID'],axis=1)"
   ]
  },
  {
   "cell_type": "code",
   "execution_count": 104,
   "metadata": {},
   "outputs": [],
   "source": [
    "Activities['Start Date Planned'] = pd.to_datetime(Activities['Start Date Planned'])\n",
    "Activities['Start Date Projected'] = pd.to_datetime(Activities['Start Date Projected'])\n",
    "Activities['Start Date Actual'] = pd.to_datetime(Activities['Start Date Actual'])\n",
    "Activities['Completion Date Planned'] = pd.to_datetime(Activities['Completion Date Planned'])\n",
    "Activities['Completion Date Projected'] = pd.to_datetime(Activities['Completion Date Projected'])\n",
    "Activities['Completion Date Actual'] = pd.to_datetime(Activities['Completion Date Actual'])"
   ]
  },
  {
   "cell_type": "code",
   "execution_count": 105,
   "metadata": {},
   "outputs": [],
   "source": [
    "Activities['Planned_Duration']=np.subtract(Activities['Completion Date Planned'],Activities['Start Date Planned'])"
   ]
  },
  {
   "cell_type": "code",
   "execution_count": 106,
   "metadata": {},
   "outputs": [],
   "source": [
    "Activities=Activities.drop('Completion Date Planned',axis=1)"
   ]
  },
  {
   "cell_type": "code",
   "execution_count": 107,
   "metadata": {},
   "outputs": [],
   "source": [
    "Activities['Actual_duration']=np.subtract(Activities['Completion Date Actual'],Activities['Start Date Actual'])\n",
    "Activities['Actual_start_delay']=np.subtract(Activities['Start Date Actual'],Activities['Start Date Planned'])"
   ]
  },
  {
   "cell_type": "code",
   "execution_count": null,
   "metadata": {},
   "outputs": [],
   "source": [
    "Activities=Activities.drop(['Start Date Actual','Completion Date Actual'],axis=1)"
   ]
  },
  {
   "cell_type": "code",
   "execution_count": 111,
   "metadata": {},
   "outputs": [],
   "source": [
    "Activities=Activities.rename(columns={'Unique Investment Identifier':'Unique_Investment_Identifier','Project ID':'Project_ID','Activity Name':'Activity_Name','Activity Description':'Activity Description','Key Deliverable / Usable Functionality':'Output_type','Start Date Planned':'Start Date Planned','Total Costs Planned':'Planned_Costs','Activity Status':'Status','Has No Child Activity':'No_Child_Activity','Unique Activity ID':'ID'})"
   ]
  },
  {
   "cell_type": "code",
   "execution_count": null,
   "metadata": {},
   "outputs": [],
   "source": [
    "Activities=Activities.drop(['Unique_Investment_Identifier','Agency Code','Start Date Projected','Start Date Projected'],axis=1)"
   ]
  },
  {
   "cell_type": "code",
   "execution_count": 117,
   "metadata": {},
   "outputs": [],
   "source": [
    "Activities=Activities.rename(columns={'Activity Description':'Description'})"
   ]
  },
  {
   "cell_type": "code",
   "execution_count": 116,
   "metadata": {},
   "outputs": [],
   "source": [
    "Activities=Activities.rename(columns={'Start Date Planned':'Start_Date_Planned'})"
   ]
  },
  {
   "cell_type": "markdown",
   "metadata": {},
   "source": [
    "## Code for Neo4j\n",
    "LOAD CSV WITH HEADERS FROM 'file:///Health_Activities_Out.csv' AS row \n",
    "MERGE (n:Project {Id:row.Project_ID})\n",
    "MERGE (o:Activity {Id:row.ID})\n",
    "SET o.name=row.Activity_Name\n",
    "SET o.description=row.Description\n",
    "SET o.output_type=row.Output_type\n",
    "SET o.planned_Costs=row.Planned_Costs\n",
    "SET o.status=row.Status\n",
    "SET o.No_Child_Activity=row.No_Child_Activity\n",
    "SET o.Planned_Duration=row.Planned_Duration\n",
    "SET o.Actual_duration=row.Actual_duration\n",
    "SET o.Actual_start_delay=row.Actual_start_delay\n",
    "SET o.Start_Date_Planned=row.Start_Date_Planned\n",
    "MERGE (n)-[:has_task]->(o)\n",
    "\n",
    "# This is the additional code to take subgraph, as a query, to export Cypher code, say for populating a Sandbox\n",
    "CALL apoc.export.cypher.query(\n",
    "\"MATCH (n:Bureau)-[a]-(o:Investment)-[b]-(p:Project)-[c]-(q:Activity),(o)-[d]-(r:Service),(o)-[e]-(s:Business_Function)-[f]-(t:Business_Area),(o)-[g]-(u:Metric),(o)-[h]-(v:Agency) WHERE n.Name='Small Business Administration' OR  RETURN *\",\"export.cypher\",{});"
   ]
  },
  {
   "cell_type": "code",
   "execution_count": 119,
   "metadata": {},
   "outputs": [],
   "source": [
    "Activities.to_csv(directory+'Health_Activities_Out.csv', index=False)"
   ]
  },
  {
   "cell_type": "code",
   "execution_count": null,
   "metadata": {},
   "outputs": [],
   "source": []
  }
 ],
 "metadata": {
  "kernelspec": {
   "display_name": "Python 3",
   "language": "python",
   "name": "python3"
  },
  "language_info": {
   "codemirror_mode": {
    "name": "ipython",
    "version": 3
   },
   "file_extension": ".py",
   "mimetype": "text/x-python",
   "name": "python",
   "nbconvert_exporter": "python",
   "pygments_lexer": "ipython3",
   "version": "3.8.5"
  }
 },
 "nbformat": 4,
 "nbformat_minor": 4
}
