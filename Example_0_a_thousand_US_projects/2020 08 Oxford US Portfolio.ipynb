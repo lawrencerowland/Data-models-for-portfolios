{
 "cells": [
  {
   "cell_type": "markdown",
   "metadata": {},
   "source": [
    "# Setting up a Graph Database for the US Government IT Portfolios"
   ]
  },
  {
   "cell_type": "code",
   "execution_count": 2,
   "metadata": {},
   "outputs": [],
   "source": [
    "import pandas as pd\n",
    "import numpy as np\n",
    "import dabl\n",
    "%matplotlib inline\n",
    "import os\n",
    "from dabl import plot\n",
    "import matplotlib.pyplot as plt\n",
    "import datetime as dt\n",
    "import dtale"
   ]
  },
  {
   "cell_type": "code",
   "execution_count": 3,
   "metadata": {},
   "outputs": [],
   "source": [
    "directory = '/Users/lawrence/Documents/GitHub/data_files_for_access/ProjectHack3data_Challenge9_from_Said_school/2013/'"
   ]
  },
  {
   "cell_type": "markdown",
   "metadata": {},
   "source": [
    "# Bring in Projects file"
   ]
  },
  {
   "cell_type": "code",
   "execution_count": 20,
   "metadata": {},
   "outputs": [],
   "source": [
    "Projects=pd.read_csv(directory+'Projects.csv', encoding= 'unicode_escape')"
   ]
  },
  {
   "cell_type": "code",
   "execution_count": 21,
   "metadata": {},
   "outputs": [],
   "source": [
    "d = dtale.show(Projects, ignore_duplicate=True)"
   ]
  },
  {
   "cell_type": "code",
   "execution_count": 22,
   "metadata": {},
   "outputs": [
    {
     "data": {
      "text/html": [
       "\n",
       "        <iframe\n",
       "            width=\"100%\"\n",
       "            height=\"475\"\n",
       "            src=\"http://eff-off-mac-users.local:40000/dtale/iframe/3\"\n",
       "            frameborder=\"0\"\n",
       "            allowfullscreen\n",
       "        ></iframe>\n",
       "        "
      ],
      "text/plain": [
       "<IPython.lib.display.IFrame at 0x130956dc0>"
      ]
     },
     "metadata": {},
     "output_type": "display_data"
    },
    {
     "data": {
      "text/plain": []
     },
     "execution_count": 22,
     "metadata": {},
     "output_type": "execute_result"
    }
   ],
   "source": [
    "d"
   ]
  },
  {
   "cell_type": "code",
   "execution_count": 23,
   "metadata": {},
   "outputs": [
    {
     "name": "stdout",
     "output_type": "stream",
     "text": [
      "Executing shutdown...\n"
     ]
    },
    {
     "name": "stderr",
     "output_type": "stream",
     "text": [
      "2020-08-18 15:47:48,908 - INFO     - Executing shutdown...\n"
     ]
    }
   ],
   "source": [
    "d.kill()"
   ]
  },
  {
   "cell_type": "code",
   "execution_count": 5,
   "metadata": {},
   "outputs": [],
   "source": [
    "Projects=Projects.drop(['Agency Project ID','Project Description','Lifecycle Cost', 'Cost Variance (%)','Projected/Actual Cost ($ M)','Updated Time','Unique Project ID'],axis=1)"
   ]
  },
  {
   "cell_type": "code",
   "execution_count": 6,
   "metadata": {},
   "outputs": [],
   "source": [
    "Projects['Completion Date (B1)']=Projects['Completion Date (B1)'].astype('datetime64')\n",
    "Projects['Planned Project Completion Date (B2)']=Projects['Planned Project Completion Date (B2)'].astype('datetime64')\n",
    "Projects['Start Date']=Projects['Start Date'].astype('datetime64')\n",
    "Projects['Projected/Actual Project Completion Date (B2)']=Projects['Projected/Actual Project Completion Date (B2)'].astype('datetime64')\n",
    "Projects['Updated Date']=Projects['Updated Date'].astype('datetime64')\n",
    "Projects['Business Case ID']=Projects['Business Case ID'].astype('category')\n",
    "Projects['Agency Code']=Projects['Agency Code'].astype('category')\n",
    "Projects['Project ID']=Projects['Project ID'].astype('category')"
   ]
  },
  {
   "cell_type": "markdown",
   "metadata": {},
   "source": [
    "In nearly all cases, Completion Date (B1) > Planned Project Completion Date (B2)\n",
    "\n",
    "In some cases 'Projected/Actual Project Completion Date (B2) < Planned Project Completion Date (B2)\n",
    "But in most cases, it is the other way around , so that Planned < Project /Actual i,e is earlier\n",
    "\n",
    "And in most cases, where not equal: Projected/Actual Project Completion Date (B2)' <   'Completion Date (B1)'\n",
    "\n",
    "therefore, Planning progresses in this order \n",
    "\n",
    "1. Planned Project Completion Date (B2)\n",
    "2. Projected/Actual Project Completion Date (B2)\n",
    "3. Completion Date (B1) \n",
    "\n",
    "So I will create:\n",
    "\n",
    "- Planned Duration\n",
    " - Project Delay, which is the worst Project Delay I can find\n",
    "Schedule variance appears to be Planned Project Completion Date (B2) MINUS 'Projected/Actual Project Completion Date (B2)\n",
    "and Hence is often listed as Negative.\n",
    "Which is okay, so Negative just means that Progress was underwhelming as normal.\n",
    "So I can drop schedule variance and schedule  variance % because we have calculated it better as Project_Delay"
   ]
  },
  {
   "cell_type": "code",
   "execution_count": 7,
   "metadata": {},
   "outputs": [],
   "source": [
    "# worked this out by a variety of boolean mixing such as:\n",
    "# constraint=(Projects['Projected/Actual Project Completion Date (B2)']<Projects['Completion Date (B1)'])&(pd.notna(Projects['Projected/Actual Project Completion Date (B2)']))&(pd.notna(Projects['Completion Date (B1)']))\n",
    "# Projects [constraint]"
   ]
  },
  {
   "cell_type": "markdown",
   "metadata": {},
   "source": [
    "Projected/Actual more or less the same as Planned cost.\n",
    "- sometimes a little more which makes sense\n",
    "- a few with 0s which is okay\n",
    "- so maybe best to drop 'Projected/Actual'\n",
    "\n",
    "Lifecycle cost is:\n",
    "- often zero\n",
    "- mostly identical to Planned\n",
    "- so best to drop this too. \n",
    "Looks like mostly Cost Variance +Planned Cost = Project/Actual Cost\n",
    "i.e. just keep Planned cost and Cost Variance"
   ]
  },
  {
   "cell_type": "code",
   "execution_count": 8,
   "metadata": {},
   "outputs": [],
   "source": [
    "# worked this out from variants of: \n",
    "# plt.scatter ((Projects['Planned Cost ($ M)'],Projects['Cost Variance ($ M)']))"
   ]
  },
  {
   "cell_type": "code",
   "execution_count": 9,
   "metadata": {},
   "outputs": [],
   "source": [
    "Projects['Planned_Duration']=(Projects['Planned Project Completion Date (B2)']-Projects['Start Date']).dt.days\n",
    "Projects['Project_delay']=(np.maximum(Projects['Projected/Actual Project Completion Date (B2)']-Projects['Planned Project Completion Date (B2)'],Projects['Completion Date (B1)']-Projects['Planned Project Completion Date (B2)'])).dt.days"
   ]
  },
  {
   "cell_type": "code",
   "execution_count": 10,
   "metadata": {},
   "outputs": [],
   "source": [
    "Projects=Projects.drop(['Planned Project Completion Date (B2)','Completion Date (B1)','Projected/Actual Project Completion Date (B2)'],axis=1)"
   ]
  },
  {
   "cell_type": "code",
   "execution_count": 11,
   "metadata": {},
   "outputs": [],
   "source": [
    "Projects['Start_days_after_2000']=(Projects['Start Date']-pd.Timestamp('2000-01-01')).dt.days"
   ]
  },
  {
   "cell_type": "code",
   "execution_count": 12,
   "metadata": {},
   "outputs": [],
   "source": [
    "Projects=Projects.drop(['Schedule Variance (%)','Schedule Variance (in days)'],axis=1)"
   ]
  },
  {
   "cell_type": "code",
   "execution_count": 13,
   "metadata": {},
   "outputs": [],
   "source": [
    "Projects['Updated Date']=(Projects['Updated Date']-Projects['Start Date']).dt.days # where this is now the no of days the update happened after start date"
   ]
  },
  {
   "cell_type": "code",
   "execution_count": 16,
   "metadata": {},
   "outputs": [],
   "source": [
    "Projects=Projects.dropna()"
   ]
  },
  {
   "cell_type": "code",
   "execution_count": 19,
   "metadata": {},
   "outputs": [
    {
     "data": {
      "text/html": [
       "<div>\n",
       "<style scoped>\n",
       "    .dataframe tbody tr th:only-of-type {\n",
       "        vertical-align: middle;\n",
       "    }\n",
       "\n",
       "    .dataframe tbody tr th {\n",
       "        vertical-align: top;\n",
       "    }\n",
       "\n",
       "    .dataframe thead th {\n",
       "        text-align: right;\n",
       "    }\n",
       "</style>\n",
       "<table border=\"1\" class=\"dataframe\">\n",
       "  <thead>\n",
       "    <tr style=\"text-align: right;\">\n",
       "      <th></th>\n",
       "      <th>Unique Investment Identifier</th>\n",
       "      <th>Business Case ID</th>\n",
       "      <th>Agency Code</th>\n",
       "      <th>Agency Name</th>\n",
       "      <th>Investment Title</th>\n",
       "      <th>Project ID</th>\n",
       "      <th>Project Name</th>\n",
       "      <th>Start Date</th>\n",
       "      <th>Cost Variance ($ M)</th>\n",
       "      <th>Planned Cost ($ M)</th>\n",
       "      <th>Updated Date</th>\n",
       "      <th>Planned_Duration</th>\n",
       "      <th>Project_delay</th>\n",
       "      <th>Start_days_after_2000</th>\n",
       "    </tr>\n",
       "  </thead>\n",
       "  <tbody>\n",
       "    <tr>\n",
       "      <th>1</th>\n",
       "      <td>005-000001723</td>\n",
       "      <td>212</td>\n",
       "      <td>5</td>\n",
       "      <td>Department of Agriculture</td>\n",
       "      <td>AMS Infrastructure WAN and DMZ (AMSWAN)</td>\n",
       "      <td>657</td>\n",
       "      <td>Virtualization</td>\n",
       "      <td>2011-10-01</td>\n",
       "      <td>0.000000</td>\n",
       "      <td>0.179000</td>\n",
       "      <td>60</td>\n",
       "      <td>182.0</td>\n",
       "      <td>0.0</td>\n",
       "      <td>4291</td>\n",
       "    </tr>\n",
       "    <tr>\n",
       "      <th>3</th>\n",
       "      <td>005-000001822</td>\n",
       "      <td>213</td>\n",
       "      <td>5</td>\n",
       "      <td>Department of Agriculture</td>\n",
       "      <td>APHIS Electronic Permits System (ePermits)</td>\n",
       "      <td>661</td>\n",
       "      <td>ePermits O&amp;M FY11 Part 1.</td>\n",
       "      <td>2011-04-01</td>\n",
       "      <td>0.364100</td>\n",
       "      <td>1.820500</td>\n",
       "      <td>426</td>\n",
       "      <td>182.0</td>\n",
       "      <td>0.0</td>\n",
       "      <td>4108</td>\n",
       "    </tr>\n",
       "    <tr>\n",
       "      <th>4</th>\n",
       "      <td>005-000001822</td>\n",
       "      <td>213</td>\n",
       "      <td>5</td>\n",
       "      <td>Department of Agriculture</td>\n",
       "      <td>APHIS Electronic Permits System (ePermits)</td>\n",
       "      <td>662</td>\n",
       "      <td>ePermits O&amp;M FY12 Part 1</td>\n",
       "      <td>2012-04-01</td>\n",
       "      <td>0.000000</td>\n",
       "      <td>1.713000</td>\n",
       "      <td>60</td>\n",
       "      <td>182.0</td>\n",
       "      <td>0.0</td>\n",
       "      <td>4474</td>\n",
       "    </tr>\n",
       "    <tr>\n",
       "      <th>6</th>\n",
       "      <td>005-000001822</td>\n",
       "      <td>213</td>\n",
       "      <td>5</td>\n",
       "      <td>Department of Agriculture</td>\n",
       "      <td>APHIS Electronic Permits System (ePermits)</td>\n",
       "      <td>664</td>\n",
       "      <td>BRS Field Reports Phase 2</td>\n",
       "      <td>2010-12-31</td>\n",
       "      <td>0.000000</td>\n",
       "      <td>0.010000</td>\n",
       "      <td>265</td>\n",
       "      <td>90.0</td>\n",
       "      <td>0.0</td>\n",
       "      <td>4017</td>\n",
       "    </tr>\n",
       "    <tr>\n",
       "      <th>7</th>\n",
       "      <td>005-000000038</td>\n",
       "      <td>214</td>\n",
       "      <td>5</td>\n",
       "      <td>Department of Agriculture</td>\n",
       "      <td>APHIS Enterprise Infrastructure</td>\n",
       "      <td>665</td>\n",
       "      <td>Enterprise Management</td>\n",
       "      <td>2010-10-01</td>\n",
       "      <td>0.000000</td>\n",
       "      <td>46.960000</td>\n",
       "      <td>356</td>\n",
       "      <td>364.0</td>\n",
       "      <td>0.0</td>\n",
       "      <td>3926</td>\n",
       "    </tr>\n",
       "    <tr>\n",
       "      <th>...</th>\n",
       "      <td>...</td>\n",
       "      <td>...</td>\n",
       "      <td>...</td>\n",
       "      <td>...</td>\n",
       "      <td>...</td>\n",
       "      <td>...</td>\n",
       "      <td>...</td>\n",
       "      <td>...</td>\n",
       "      <td>...</td>\n",
       "      <td>...</td>\n",
       "      <td>...</td>\n",
       "      <td>...</td>\n",
       "      <td>...</td>\n",
       "      <td>...</td>\n",
       "    </tr>\n",
       "    <tr>\n",
       "      <th>2462</th>\n",
       "      <td>016-000002145</td>\n",
       "      <td>1054</td>\n",
       "      <td>16</td>\n",
       "      <td>Social Security Administration</td>\n",
       "      <td>Earnings Redesign</td>\n",
       "      <td>1053</td>\n",
       "      <td>Non-DCS Support</td>\n",
       "      <td>2011-10-03</td>\n",
       "      <td>0.000003</td>\n",
       "      <td>0.203546</td>\n",
       "      <td>207</td>\n",
       "      <td>363.0</td>\n",
       "      <td>0.0</td>\n",
       "      <td>4293</td>\n",
       "    </tr>\n",
       "    <tr>\n",
       "      <th>2463</th>\n",
       "      <td>016-000002253</td>\n",
       "      <td>1056</td>\n",
       "      <td>16</td>\n",
       "      <td>Social Security Administration</td>\n",
       "      <td>National Support Center (Non-Major Infrastruct...</td>\n",
       "      <td>1035</td>\n",
       "      <td>FY11 -NSC</td>\n",
       "      <td>2011-06-01</td>\n",
       "      <td>-0.013272</td>\n",
       "      <td>5.610005</td>\n",
       "      <td>152</td>\n",
       "      <td>121.0</td>\n",
       "      <td>0.0</td>\n",
       "      <td>4169</td>\n",
       "    </tr>\n",
       "    <tr>\n",
       "      <th>2464</th>\n",
       "      <td>016-000002253</td>\n",
       "      <td>1056</td>\n",
       "      <td>16</td>\n",
       "      <td>Social Security Administration</td>\n",
       "      <td>National Support Center (Non-Major Infrastruct...</td>\n",
       "      <td>1036</td>\n",
       "      <td>FY12 - NSC Transition Planning</td>\n",
       "      <td>2011-10-01</td>\n",
       "      <td>0.117155</td>\n",
       "      <td>0.982165</td>\n",
       "      <td>328</td>\n",
       "      <td>365.0</td>\n",
       "      <td>0.0</td>\n",
       "      <td>4291</td>\n",
       "    </tr>\n",
       "    <tr>\n",
       "      <th>2466</th>\n",
       "      <td>016-000002253</td>\n",
       "      <td>1056</td>\n",
       "      <td>16</td>\n",
       "      <td>Social Security Administration</td>\n",
       "      <td>National Support Center (Non-Major Infrastruct...</td>\n",
       "      <td>1039</td>\n",
       "      <td>FY12 - MGMT O/H</td>\n",
       "      <td>2011-10-01</td>\n",
       "      <td>-0.000001</td>\n",
       "      <td>0.159365</td>\n",
       "      <td>212</td>\n",
       "      <td>365.0</td>\n",
       "      <td>0.0</td>\n",
       "      <td>4291</td>\n",
       "    </tr>\n",
       "    <tr>\n",
       "      <th>2467</th>\n",
       "      <td>016-000002253</td>\n",
       "      <td>1056</td>\n",
       "      <td>16</td>\n",
       "      <td>Social Security Administration</td>\n",
       "      <td>National Support Center (Non-Major Infrastruct...</td>\n",
       "      <td>1040</td>\n",
       "      <td>FY12 - non-DCS Support</td>\n",
       "      <td>2011-10-01</td>\n",
       "      <td>0.000000</td>\n",
       "      <td>0.817118</td>\n",
       "      <td>212</td>\n",
       "      <td>365.0</td>\n",
       "      <td>0.0</td>\n",
       "      <td>4291</td>\n",
       "    </tr>\n",
       "  </tbody>\n",
       "</table>\n",
       "<p>1547 rows × 14 columns</p>\n",
       "</div>"
      ],
      "text/plain": [
       "     Unique Investment Identifier Business Case ID Agency Code  \\\n",
       "1                   005-000001723              212           5   \n",
       "3                   005-000001822              213           5   \n",
       "4                   005-000001822              213           5   \n",
       "6                   005-000001822              213           5   \n",
       "7                   005-000000038              214           5   \n",
       "...                           ...              ...         ...   \n",
       "2462                016-000002145             1054          16   \n",
       "2463                016-000002253             1056          16   \n",
       "2464                016-000002253             1056          16   \n",
       "2466                016-000002253             1056          16   \n",
       "2467                016-000002253             1056          16   \n",
       "\n",
       "                         Agency Name  \\\n",
       "1          Department of Agriculture   \n",
       "3          Department of Agriculture   \n",
       "4          Department of Agriculture   \n",
       "6          Department of Agriculture   \n",
       "7          Department of Agriculture   \n",
       "...                              ...   \n",
       "2462  Social Security Administration   \n",
       "2463  Social Security Administration   \n",
       "2464  Social Security Administration   \n",
       "2466  Social Security Administration   \n",
       "2467  Social Security Administration   \n",
       "\n",
       "                                       Investment Title Project ID  \\\n",
       "1               AMS Infrastructure WAN and DMZ (AMSWAN)        657   \n",
       "3            APHIS Electronic Permits System (ePermits)        661   \n",
       "4            APHIS Electronic Permits System (ePermits)        662   \n",
       "6            APHIS Electronic Permits System (ePermits)        664   \n",
       "7                       APHIS Enterprise Infrastructure        665   \n",
       "...                                                 ...        ...   \n",
       "2462                                  Earnings Redesign       1053   \n",
       "2463  National Support Center (Non-Major Infrastruct...       1035   \n",
       "2464  National Support Center (Non-Major Infrastruct...       1036   \n",
       "2466  National Support Center (Non-Major Infrastruct...       1039   \n",
       "2467  National Support Center (Non-Major Infrastruct...       1040   \n",
       "\n",
       "                        Project Name Start Date  Cost Variance ($ M)  \\\n",
       "1                     Virtualization 2011-10-01             0.000000   \n",
       "3          ePermits O&M FY11 Part 1. 2011-04-01             0.364100   \n",
       "4           ePermits O&M FY12 Part 1 2012-04-01             0.000000   \n",
       "6          BRS Field Reports Phase 2 2010-12-31             0.000000   \n",
       "7              Enterprise Management 2010-10-01             0.000000   \n",
       "...                              ...        ...                  ...   \n",
       "2462                 Non-DCS Support 2011-10-03             0.000003   \n",
       "2463                       FY11 -NSC 2011-06-01            -0.013272   \n",
       "2464  FY12 - NSC Transition Planning 2011-10-01             0.117155   \n",
       "2466                 FY12 - MGMT O/H 2011-10-01            -0.000001   \n",
       "2467          FY12 - non-DCS Support 2011-10-01             0.000000   \n",
       "\n",
       "      Planned Cost ($ M)  Updated Date  Planned_Duration  Project_delay  \\\n",
       "1               0.179000            60             182.0            0.0   \n",
       "3               1.820500           426             182.0            0.0   \n",
       "4               1.713000            60             182.0            0.0   \n",
       "6               0.010000           265              90.0            0.0   \n",
       "7              46.960000           356             364.0            0.0   \n",
       "...                  ...           ...               ...            ...   \n",
       "2462            0.203546           207             363.0            0.0   \n",
       "2463            5.610005           152             121.0            0.0   \n",
       "2464            0.982165           328             365.0            0.0   \n",
       "2466            0.159365           212             365.0            0.0   \n",
       "2467            0.817118           212             365.0            0.0   \n",
       "\n",
       "      Start_days_after_2000  \n",
       "1                      4291  \n",
       "3                      4108  \n",
       "4                      4474  \n",
       "6                      4017  \n",
       "7                      3926  \n",
       "...                     ...  \n",
       "2462                   4293  \n",
       "2463                   4169  \n",
       "2464                   4291  \n",
       "2466                   4291  \n",
       "2467                   4291  \n",
       "\n",
       "[1547 rows x 14 columns]"
      ]
     },
     "execution_count": 19,
     "metadata": {},
     "output_type": "execute_result"
    }
   ],
   "source": [
    "Projects"
   ]
  },
  {
   "cell_type": "code",
   "execution_count": 18,
   "metadata": {},
   "outputs": [
    {
     "ename": "AttributeError",
     "evalue": "'int' object has no attribute 'strip'",
     "output_type": "error",
     "traceback": [
      "\u001b[0;31m-------------------------------------------------------------\u001b[0m",
      "\u001b[0;31mAttributeError\u001b[0m              Traceback (most recent call last)",
      "\u001b[0;32m<ipython-input-18-994fd2605791>\u001b[0m in \u001b[0;36m<module>\u001b[0;34m\u001b[0m\n\u001b[0;32m----> 1\u001b[0;31m \u001b[0md\u001b[0m \u001b[0;34m=\u001b[0m \u001b[0mdtale\u001b[0m\u001b[0;34m.\u001b[0m\u001b[0mshow\u001b[0m\u001b[0;34m(\u001b[0m\u001b[0mProjects\u001b[0m\u001b[0;34m,\u001b[0m \u001b[0mignore_duplicate\u001b[0m\u001b[0;34m=\u001b[0m\u001b[0;32mTrue\u001b[0m\u001b[0;34m)\u001b[0m\u001b[0;34m\u001b[0m\u001b[0;34m\u001b[0m\u001b[0m\n\u001b[0m",
      "\u001b[0;32m~/opt/miniconda3/envs/DABL_Env/lib/python3.8/site-packages/dtale/app.py\u001b[0m in \u001b[0;36mshow\u001b[0;34m(data, host, port, name, debug, subprocess, data_loader, reaper_on, open_browser, notebook, force, context_vars, ignore_duplicate, app_root, allow_cell_edits, inplace, drop_index, **kwargs)\u001b[0m\n\u001b[1;32m    618\u001b[0m         \u001b[0mapp_url\u001b[0m \u001b[0;34m=\u001b[0m \u001b[0mbuild_url\u001b[0m\u001b[0;34m(\u001b[0m\u001b[0mACTIVE_PORT\u001b[0m\u001b[0;34m,\u001b[0m \u001b[0mACTIVE_HOST\u001b[0m\u001b[0;34m)\u001b[0m\u001b[0;34m\u001b[0m\u001b[0;34m\u001b[0m\u001b[0m\n\u001b[1;32m    619\u001b[0m         \u001b[0mstartup_url\u001b[0m\u001b[0;34m,\u001b[0m \u001b[0mfinal_app_root\u001b[0m \u001b[0;34m=\u001b[0m \u001b[0mbuild_startup_url_and_app_root\u001b[0m\u001b[0;34m(\u001b[0m\u001b[0mapp_root\u001b[0m\u001b[0;34m)\u001b[0m\u001b[0;34m\u001b[0m\u001b[0;34m\u001b[0m\u001b[0m\n\u001b[0;32m--> 620\u001b[0;31m         instance = startup(\n\u001b[0m\u001b[1;32m    621\u001b[0m             \u001b[0mstartup_url\u001b[0m\u001b[0;34m,\u001b[0m\u001b[0;34m\u001b[0m\u001b[0;34m\u001b[0m\u001b[0m\n\u001b[1;32m    622\u001b[0m             \u001b[0mdata\u001b[0m\u001b[0;34m=\u001b[0m\u001b[0mdata\u001b[0m\u001b[0;34m,\u001b[0m\u001b[0;34m\u001b[0m\u001b[0;34m\u001b[0m\u001b[0m\n",
      "\u001b[0;32m~/opt/miniconda3/envs/DABL_Env/lib/python3.8/site-packages/dtale/views.py\u001b[0m in \u001b[0;36mstartup\u001b[0;34m(url, data, data_loader, name, data_id, context_vars, ignore_duplicate, allow_cell_edits, inplace, drop_index)\u001b[0m\n\u001b[1;32m    835\u001b[0m         \u001b[0mglobal_state\u001b[0m\u001b[0;34m.\u001b[0m\u001b[0mset_data\u001b[0m\u001b[0;34m(\u001b[0m\u001b[0mdata_id\u001b[0m\u001b[0;34m,\u001b[0m \u001b[0mdata\u001b[0m\u001b[0;34m)\u001b[0m\u001b[0;34m\u001b[0m\u001b[0;34m\u001b[0m\u001b[0m\n\u001b[1;32m    836\u001b[0m         global_state.set_dtypes(\n\u001b[0;32m--> 837\u001b[0;31m             \u001b[0mdata_id\u001b[0m\u001b[0;34m,\u001b[0m \u001b[0mbuild_dtypes_state\u001b[0m\u001b[0;34m(\u001b[0m\u001b[0mdata\u001b[0m\u001b[0;34m,\u001b[0m \u001b[0mglobal_state\u001b[0m\u001b[0;34m.\u001b[0m\u001b[0mget_dtypes\u001b[0m\u001b[0;34m(\u001b[0m\u001b[0mdata_id\u001b[0m\u001b[0;34m)\u001b[0m \u001b[0;32mor\u001b[0m \u001b[0;34m[\u001b[0m\u001b[0;34m]\u001b[0m\u001b[0;34m)\u001b[0m\u001b[0;34m\u001b[0m\u001b[0;34m\u001b[0m\u001b[0m\n\u001b[0m\u001b[1;32m    838\u001b[0m         )\n\u001b[1;32m    839\u001b[0m         global_state.set_context_variables(\n",
      "\u001b[0;32m~/opt/miniconda3/envs/DABL_Env/lib/python3.8/site-packages/dtale/views.py\u001b[0m in \u001b[0;36mbuild_dtypes_state\u001b[0;34m(data, prev_state)\u001b[0m\n\u001b[1;32m    606\u001b[0m         \u001b[0mranges\u001b[0m \u001b[0;34m=\u001b[0m \u001b[0;34m{\u001b[0m\u001b[0;34m}\u001b[0m\u001b[0;34m\u001b[0m\u001b[0;34m\u001b[0m\u001b[0m\n\u001b[1;32m    607\u001b[0m     \u001b[0mdtype_f\u001b[0m \u001b[0;34m=\u001b[0m \u001b[0mdtype_formatter\u001b[0m\u001b[0;34m(\u001b[0m\u001b[0mdata\u001b[0m\u001b[0;34m,\u001b[0m \u001b[0mget_dtypes\u001b[0m\u001b[0;34m(\u001b[0m\u001b[0mdata\u001b[0m\u001b[0;34m)\u001b[0m\u001b[0;34m,\u001b[0m \u001b[0mranges\u001b[0m\u001b[0;34m,\u001b[0m \u001b[0mprev_dtypes\u001b[0m\u001b[0;34m)\u001b[0m\u001b[0;34m\u001b[0m\u001b[0;34m\u001b[0m\u001b[0m\n\u001b[0;32m--> 608\u001b[0;31m     \u001b[0;32mreturn\u001b[0m \u001b[0;34m[\u001b[0m\u001b[0mdtype_f\u001b[0m\u001b[0;34m(\u001b[0m\u001b[0mi\u001b[0m\u001b[0;34m,\u001b[0m \u001b[0mc\u001b[0m\u001b[0;34m)\u001b[0m \u001b[0;32mfor\u001b[0m \u001b[0mi\u001b[0m\u001b[0;34m,\u001b[0m \u001b[0mc\u001b[0m \u001b[0;32min\u001b[0m \u001b[0menumerate\u001b[0m\u001b[0;34m(\u001b[0m\u001b[0mdata\u001b[0m\u001b[0;34m.\u001b[0m\u001b[0mcolumns\u001b[0m\u001b[0;34m)\u001b[0m\u001b[0;34m]\u001b[0m\u001b[0;34m\u001b[0m\u001b[0;34m\u001b[0m\u001b[0m\n\u001b[0m\u001b[1;32m    609\u001b[0m \u001b[0;34m\u001b[0m\u001b[0m\n\u001b[1;32m    610\u001b[0m \u001b[0;34m\u001b[0m\u001b[0m\n",
      "\u001b[0;32m~/opt/miniconda3/envs/DABL_Env/lib/python3.8/site-packages/dtale/views.py\u001b[0m in \u001b[0;36m<listcomp>\u001b[0;34m(.0)\u001b[0m\n\u001b[1;32m    606\u001b[0m         \u001b[0mranges\u001b[0m \u001b[0;34m=\u001b[0m \u001b[0;34m{\u001b[0m\u001b[0;34m}\u001b[0m\u001b[0;34m\u001b[0m\u001b[0;34m\u001b[0m\u001b[0m\n\u001b[1;32m    607\u001b[0m     \u001b[0mdtype_f\u001b[0m \u001b[0;34m=\u001b[0m \u001b[0mdtype_formatter\u001b[0m\u001b[0;34m(\u001b[0m\u001b[0mdata\u001b[0m\u001b[0;34m,\u001b[0m \u001b[0mget_dtypes\u001b[0m\u001b[0;34m(\u001b[0m\u001b[0mdata\u001b[0m\u001b[0;34m)\u001b[0m\u001b[0;34m,\u001b[0m \u001b[0mranges\u001b[0m\u001b[0;34m,\u001b[0m \u001b[0mprev_dtypes\u001b[0m\u001b[0;34m)\u001b[0m\u001b[0;34m\u001b[0m\u001b[0;34m\u001b[0m\u001b[0m\n\u001b[0;32m--> 608\u001b[0;31m     \u001b[0;32mreturn\u001b[0m \u001b[0;34m[\u001b[0m\u001b[0mdtype_f\u001b[0m\u001b[0;34m(\u001b[0m\u001b[0mi\u001b[0m\u001b[0;34m,\u001b[0m \u001b[0mc\u001b[0m\u001b[0;34m)\u001b[0m \u001b[0;32mfor\u001b[0m \u001b[0mi\u001b[0m\u001b[0;34m,\u001b[0m \u001b[0mc\u001b[0m \u001b[0;32min\u001b[0m \u001b[0menumerate\u001b[0m\u001b[0;34m(\u001b[0m\u001b[0mdata\u001b[0m\u001b[0;34m.\u001b[0m\u001b[0mcolumns\u001b[0m\u001b[0;34m)\u001b[0m\u001b[0;34m]\u001b[0m\u001b[0;34m\u001b[0m\u001b[0;34m\u001b[0m\u001b[0m\n\u001b[0m\u001b[1;32m    609\u001b[0m \u001b[0;34m\u001b[0m\u001b[0m\n\u001b[1;32m    610\u001b[0m \u001b[0;34m\u001b[0m\u001b[0m\n",
      "\u001b[0;32m~/opt/miniconda3/envs/DABL_Env/lib/python3.8/site-packages/dtale/views.py\u001b[0m in \u001b[0;36m_formatter\u001b[0;34m(col_index, col)\u001b[0m\n\u001b[1;32m    580\u001b[0m             \u001b[0;32mif\u001b[0m \u001b[0mdtype\u001b[0m\u001b[0;34m.\u001b[0m\u001b[0mstartswith\u001b[0m\u001b[0;34m(\u001b[0m\u001b[0;34m\"category\"\u001b[0m\u001b[0;34m)\u001b[0m\u001b[0;34m:\u001b[0m\u001b[0;34m\u001b[0m\u001b[0;34m\u001b[0m\u001b[0m\n\u001b[1;32m    581\u001b[0m                 dtype_data[\"hasMissing\"] += int(\n\u001b[0;32m--> 582\u001b[0;31m                     \u001b[0;34m(\u001b[0m\u001b[0ms\u001b[0m\u001b[0;34m.\u001b[0m\u001b[0mapply\u001b[0m\u001b[0;34m(\u001b[0m\u001b[0;32mlambda\u001b[0m \u001b[0mx\u001b[0m\u001b[0;34m:\u001b[0m \u001b[0mx\u001b[0m\u001b[0;34m.\u001b[0m\u001b[0mstrip\u001b[0m\u001b[0;34m(\u001b[0m\u001b[0;34m)\u001b[0m\u001b[0;34m)\u001b[0m \u001b[0;34m==\u001b[0m \u001b[0;34m\"\"\u001b[0m\u001b[0;34m)\u001b[0m\u001b[0;34m.\u001b[0m\u001b[0msum\u001b[0m\u001b[0;34m(\u001b[0m\u001b[0;34m)\u001b[0m\u001b[0;34m\u001b[0m\u001b[0;34m\u001b[0m\u001b[0m\n\u001b[0m\u001b[1;32m    583\u001b[0m                 )\n\u001b[1;32m    584\u001b[0m             \u001b[0;32melse\u001b[0m\u001b[0;34m:\u001b[0m\u001b[0;34m\u001b[0m\u001b[0;34m\u001b[0m\u001b[0m\n",
      "\u001b[0;32m~/opt/miniconda3/envs/DABL_Env/lib/python3.8/site-packages/pandas/core/series.py\u001b[0m in \u001b[0;36mapply\u001b[0;34m(self, func, convert_dtype, args, **kwds)\u001b[0m\n\u001b[1;32m   4195\u001b[0m             \u001b[0;32mif\u001b[0m \u001b[0mis_extension_array_dtype\u001b[0m\u001b[0;34m(\u001b[0m\u001b[0mself\u001b[0m\u001b[0;34m.\u001b[0m\u001b[0mdtype\u001b[0m\u001b[0;34m)\u001b[0m \u001b[0;32mand\u001b[0m \u001b[0mhasattr\u001b[0m\u001b[0;34m(\u001b[0m\u001b[0mself\u001b[0m\u001b[0;34m.\u001b[0m\u001b[0m_values\u001b[0m\u001b[0;34m,\u001b[0m \u001b[0;34m\"map\"\u001b[0m\u001b[0;34m)\u001b[0m\u001b[0;34m:\u001b[0m\u001b[0;34m\u001b[0m\u001b[0;34m\u001b[0m\u001b[0m\n\u001b[1;32m   4196\u001b[0m                 \u001b[0;31m# GH#23179 some EAs do not have `map`\u001b[0m\u001b[0;34m\u001b[0m\u001b[0;34m\u001b[0m\u001b[0;34m\u001b[0m\u001b[0m\n\u001b[0;32m-> 4197\u001b[0;31m                 \u001b[0mmapped\u001b[0m \u001b[0;34m=\u001b[0m \u001b[0mself\u001b[0m\u001b[0;34m.\u001b[0m\u001b[0m_values\u001b[0m\u001b[0;34m.\u001b[0m\u001b[0mmap\u001b[0m\u001b[0;34m(\u001b[0m\u001b[0mf\u001b[0m\u001b[0;34m)\u001b[0m\u001b[0;34m\u001b[0m\u001b[0;34m\u001b[0m\u001b[0m\n\u001b[0m\u001b[1;32m   4198\u001b[0m             \u001b[0;32melse\u001b[0m\u001b[0;34m:\u001b[0m\u001b[0;34m\u001b[0m\u001b[0;34m\u001b[0m\u001b[0m\n\u001b[1;32m   4199\u001b[0m                 \u001b[0mvalues\u001b[0m \u001b[0;34m=\u001b[0m \u001b[0mself\u001b[0m\u001b[0;34m.\u001b[0m\u001b[0mastype\u001b[0m\u001b[0;34m(\u001b[0m\u001b[0mobject\u001b[0m\u001b[0;34m)\u001b[0m\u001b[0;34m.\u001b[0m\u001b[0m_values\u001b[0m\u001b[0;34m\u001b[0m\u001b[0;34m\u001b[0m\u001b[0m\n",
      "\u001b[0;32m~/opt/miniconda3/envs/DABL_Env/lib/python3.8/site-packages/pandas/core/arrays/categorical.py\u001b[0m in \u001b[0;36mmap\u001b[0;34m(self, mapper)\u001b[0m\n\u001b[1;32m   1162\u001b[0m         \u001b[0mIndex\u001b[0m\u001b[0;34m(\u001b[0m\u001b[0;34m[\u001b[0m\u001b[0;34m'first'\u001b[0m\u001b[0;34m,\u001b[0m \u001b[0;34m'second'\u001b[0m\u001b[0;34m,\u001b[0m \u001b[0mnan\u001b[0m\u001b[0;34m]\u001b[0m\u001b[0;34m,\u001b[0m \u001b[0mdtype\u001b[0m\u001b[0;34m=\u001b[0m\u001b[0;34m'object'\u001b[0m\u001b[0;34m)\u001b[0m\u001b[0;34m\u001b[0m\u001b[0;34m\u001b[0m\u001b[0m\n\u001b[1;32m   1163\u001b[0m         \"\"\"\n\u001b[0;32m-> 1164\u001b[0;31m         \u001b[0mnew_categories\u001b[0m \u001b[0;34m=\u001b[0m \u001b[0mself\u001b[0m\u001b[0;34m.\u001b[0m\u001b[0mcategories\u001b[0m\u001b[0;34m.\u001b[0m\u001b[0mmap\u001b[0m\u001b[0;34m(\u001b[0m\u001b[0mmapper\u001b[0m\u001b[0;34m)\u001b[0m\u001b[0;34m\u001b[0m\u001b[0;34m\u001b[0m\u001b[0m\n\u001b[0m\u001b[1;32m   1165\u001b[0m         \u001b[0;32mtry\u001b[0m\u001b[0;34m:\u001b[0m\u001b[0;34m\u001b[0m\u001b[0;34m\u001b[0m\u001b[0m\n\u001b[1;32m   1166\u001b[0m             return self.from_codes(\n",
      "\u001b[0;32m~/opt/miniconda3/envs/DABL_Env/lib/python3.8/site-packages/pandas/core/indexes/base.py\u001b[0m in \u001b[0;36mmap\u001b[0;34m(self, mapper, na_action)\u001b[0m\n\u001b[1;32m   4786\u001b[0m         \u001b[0;32mfrom\u001b[0m \u001b[0mpandas\u001b[0m\u001b[0;34m.\u001b[0m\u001b[0mcore\u001b[0m\u001b[0;34m.\u001b[0m\u001b[0mindexes\u001b[0m\u001b[0;34m.\u001b[0m\u001b[0mmulti\u001b[0m \u001b[0;32mimport\u001b[0m \u001b[0mMultiIndex\u001b[0m\u001b[0;34m\u001b[0m\u001b[0;34m\u001b[0m\u001b[0m\n\u001b[1;32m   4787\u001b[0m \u001b[0;34m\u001b[0m\u001b[0m\n\u001b[0;32m-> 4788\u001b[0;31m         \u001b[0mnew_values\u001b[0m \u001b[0;34m=\u001b[0m \u001b[0msuper\u001b[0m\u001b[0;34m(\u001b[0m\u001b[0;34m)\u001b[0m\u001b[0;34m.\u001b[0m\u001b[0m_map_values\u001b[0m\u001b[0;34m(\u001b[0m\u001b[0mmapper\u001b[0m\u001b[0;34m,\u001b[0m \u001b[0mna_action\u001b[0m\u001b[0;34m=\u001b[0m\u001b[0mna_action\u001b[0m\u001b[0;34m)\u001b[0m\u001b[0;34m\u001b[0m\u001b[0;34m\u001b[0m\u001b[0m\n\u001b[0m\u001b[1;32m   4789\u001b[0m \u001b[0;34m\u001b[0m\u001b[0m\n\u001b[1;32m   4790\u001b[0m         \u001b[0mattributes\u001b[0m \u001b[0;34m=\u001b[0m \u001b[0mself\u001b[0m\u001b[0;34m.\u001b[0m\u001b[0m_get_attributes_dict\u001b[0m\u001b[0;34m(\u001b[0m\u001b[0;34m)\u001b[0m\u001b[0;34m\u001b[0m\u001b[0;34m\u001b[0m\u001b[0m\n",
      "\u001b[0;32m~/opt/miniconda3/envs/DABL_Env/lib/python3.8/site-packages/pandas/core/base.py\u001b[0m in \u001b[0;36m_map_values\u001b[0;34m(self, mapper, na_action)\u001b[0m\n\u001b[1;32m   1158\u001b[0m \u001b[0;34m\u001b[0m\u001b[0m\n\u001b[1;32m   1159\u001b[0m         \u001b[0;31m# mapper is a function\u001b[0m\u001b[0;34m\u001b[0m\u001b[0;34m\u001b[0m\u001b[0;34m\u001b[0m\u001b[0m\n\u001b[0;32m-> 1160\u001b[0;31m         \u001b[0mnew_values\u001b[0m \u001b[0;34m=\u001b[0m \u001b[0mmap_f\u001b[0m\u001b[0;34m(\u001b[0m\u001b[0mvalues\u001b[0m\u001b[0;34m,\u001b[0m \u001b[0mmapper\u001b[0m\u001b[0;34m)\u001b[0m\u001b[0;34m\u001b[0m\u001b[0;34m\u001b[0m\u001b[0m\n\u001b[0m\u001b[1;32m   1161\u001b[0m \u001b[0;34m\u001b[0m\u001b[0m\n\u001b[1;32m   1162\u001b[0m         \u001b[0;32mreturn\u001b[0m \u001b[0mnew_values\u001b[0m\u001b[0;34m\u001b[0m\u001b[0;34m\u001b[0m\u001b[0m\n",
      "\u001b[0;32mpandas/_libs/lib.pyx\u001b[0m in \u001b[0;36mpandas._libs.lib.map_infer\u001b[0;34m()\u001b[0m\n",
      "\u001b[0;32m~/opt/miniconda3/envs/DABL_Env/lib/python3.8/site-packages/dtale/views.py\u001b[0m in \u001b[0;36m<lambda>\u001b[0;34m(x)\u001b[0m\n\u001b[1;32m    580\u001b[0m             \u001b[0;32mif\u001b[0m \u001b[0mdtype\u001b[0m\u001b[0;34m.\u001b[0m\u001b[0mstartswith\u001b[0m\u001b[0;34m(\u001b[0m\u001b[0;34m\"category\"\u001b[0m\u001b[0;34m)\u001b[0m\u001b[0;34m:\u001b[0m\u001b[0;34m\u001b[0m\u001b[0;34m\u001b[0m\u001b[0m\n\u001b[1;32m    581\u001b[0m                 dtype_data[\"hasMissing\"] += int(\n\u001b[0;32m--> 582\u001b[0;31m                     \u001b[0;34m(\u001b[0m\u001b[0ms\u001b[0m\u001b[0;34m.\u001b[0m\u001b[0mapply\u001b[0m\u001b[0;34m(\u001b[0m\u001b[0;32mlambda\u001b[0m \u001b[0mx\u001b[0m\u001b[0;34m:\u001b[0m \u001b[0mx\u001b[0m\u001b[0;34m.\u001b[0m\u001b[0mstrip\u001b[0m\u001b[0;34m(\u001b[0m\u001b[0;34m)\u001b[0m\u001b[0;34m)\u001b[0m \u001b[0;34m==\u001b[0m \u001b[0;34m\"\"\u001b[0m\u001b[0;34m)\u001b[0m\u001b[0;34m.\u001b[0m\u001b[0msum\u001b[0m\u001b[0;34m(\u001b[0m\u001b[0;34m)\u001b[0m\u001b[0;34m\u001b[0m\u001b[0;34m\u001b[0m\u001b[0m\n\u001b[0m\u001b[1;32m    583\u001b[0m                 )\n\u001b[1;32m    584\u001b[0m             \u001b[0;32melse\u001b[0m\u001b[0;34m:\u001b[0m\u001b[0;34m\u001b[0m\u001b[0;34m\u001b[0m\u001b[0m\n",
      "\u001b[0;31mAttributeError\u001b[0m: 'int' object has no attribute 'strip'"
     ]
    }
   ],
   "source": [
    "d = dtale.show(Projects, ignore_duplicate=True)"
   ]
  },
  {
   "cell_type": "markdown",
   "metadata": {},
   "source": [
    "## Work out Data Structure as you go. \n",
    "Agency >> Investment (w Business Case ) >> Project ( Start, Completion, Cost, Variances)\n",
    "\n",
    "## Create a basic example in Neo4j inline\n",
    "\n",
    "CREATE (m:Agency {name:'Dept Agriculture',Code:5})\n",
    "CREATE (n:Investment {name:'AMS Infrastructure WAN and DMZ (AMSWAN)', Identifier:'005-000001723'})\n",
    "CREATE (o:Project {name:'Virtualization', Id:657,Cost_Variance:0,Planned_Cost:0.179,Updated_Date:60,Planned_Duration:182, Project_delay:0,Start_days_after_2000:4291})\n",
    "CREATE (m)-[:invests]->(n)\n",
    "CREATE (n)-[:pays_for]->(o)\n",
    "\n",
    "After testing this, I can bring in CSV: see further below"
   ]
  },
  {
   "cell_type": "markdown",
   "metadata": {},
   "source": [
    "## Data exploration"
   ]
  },
  {
   "cell_type": "code",
   "execution_count": 14,
   "metadata": {},
   "outputs": [],
   "source": [
    "constraint=Projects['Updated Date']>Projects['Planned_Duration'] #find only those rows where Update date is after Project is meant to have finished"
   ]
  },
  {
   "cell_type": "code",
   "execution_count": 15,
   "metadata": {},
   "outputs": [],
   "source": [
    "Projects_Training=Projects[constraint]"
   ]
  },
  {
   "cell_type": "code",
   "execution_count": 16,
   "metadata": {},
   "outputs": [],
   "source": [
    "Stripped_for_delay_forecast=Projects_Training.drop(['Cost Variance ($ M)','Unique Investment Identifier','Business Case ID','Agency Name','Investment Title','Project ID','Project Name','Start Date'],axis=1)"
   ]
  },
  {
   "cell_type": "code",
   "execution_count": 17,
   "metadata": {},
   "outputs": [
    {
     "name": "stderr",
     "output_type": "stream",
     "text": [
      "/Users/lawrence/DABL_Env/lib/python3.7/site-packages/dabl/plot/supervised.py:528: FutureWarning: The second positional argument of plot is a Series 'y'. If passing a column name, use a keyword.\n",
      "  FutureWarning)\n"
     ]
    },
    {
     "name": "stdout",
     "output_type": "stream",
     "text": [
      "Target looks like regression\n"
     ]
    },
    {
     "name": "stderr",
     "output_type": "stream",
     "text": [
      "/Users/lawrence/DABL_Env/lib/python3.7/site-packages/dabl/plot/utils.py:621: UserWarning: Dropped 4 outliers in column Updated Date.\n",
      "  int(dropped), series.name), UserWarning)\n",
      "/Users/lawrence/DABL_Env/lib/python3.7/site-packages/dabl/plot/utils.py:621: UserWarning: Dropped 6 outliers in column Planned_Duration.\n",
      "  int(dropped), series.name), UserWarning)\n",
      "/Users/lawrence/DABL_Env/lib/python3.7/site-packages/dabl/plot/utils.py:621: UserWarning: Dropped 4 outliers in column Start_days_after_2000.\n",
      "  int(dropped), series.name), UserWarning)\n",
      "/Users/lawrence/DABL_Env/lib/python3.7/site-packages/dabl/plot/utils.py:621: UserWarning: Dropped 3 outliers in column Planned Cost ($ M).\n",
      "  int(dropped), series.name), UserWarning)\n",
      "/Users/lawrence/DABL_Env/lib/python3.7/site-packages/dabl/plot/utils.py:364: UserWarning: FixedFormatter should only be used together with FixedLocator\n",
      "  for t in ax.get_xticklabels()]\n"
     ]
    },
    {
     "data": {
      "image/png": "[encoded data removed]",
      "text/plain": [
       "<Figure size 432x288 with 1 Axes>"
      ]
     },
     "metadata": {
      "needs_background": "light"
     },
     "output_type": "display_data"
    },
    {
     "data": {
      "image/png": "[encoded data removed]",
      "text/plain": [
       "<Figure size 1152x216 with 4 Axes>"
      ]
     },
     "metadata": {
      "needs_background": "light"
     },
     "output_type": "display_data"
    },
    {
     "data": {
      "image/png": "[encoded data removed]",
      "text/plain": [
       "<Figure size 288x360 with 1 Axes>"
      ]
     },
     "metadata": {
      "needs_background": "light"
     },
     "output_type": "display_data"
    }
   ],
   "source": [
    "dabl.plot(Stripped_for_delay_forecast,'Project_delay')"
   ]
  },
  {
   "cell_type": "code",
   "execution_count": 18,
   "metadata": {},
   "outputs": [],
   "source": [
    "Stripped_for_cost_forecast=Projects_Training.drop(['Project_delay','Unique Investment Identifier','Business Case ID','Agency Name','Investment Title','Project ID','Project Name','Start Date'],axis=1)"
   ]
  },
  {
   "cell_type": "code",
   "execution_count": 19,
   "metadata": {},
   "outputs": [
    {
     "name": "stderr",
     "output_type": "stream",
     "text": [
      "/Users/lawrence/DABL_Env/lib/python3.7/site-packages/dabl/plot/supervised.py:528: FutureWarning: The second positional argument of plot is a Series 'y'. If passing a column name, use a keyword.\n",
      "  FutureWarning)\n"
     ]
    },
    {
     "name": "stdout",
     "output_type": "stream",
     "text": [
      "Target looks like regression\n"
     ]
    },
    {
     "name": "stderr",
     "output_type": "stream",
     "text": [
      "/Users/lawrence/DABL_Env/lib/python3.7/site-packages/dabl/plot/utils.py:621: UserWarning: Dropped 3 outliers in column Planned Cost ($ M).\n",
      "  int(dropped), series.name), UserWarning)\n",
      "/Users/lawrence/DABL_Env/lib/python3.7/site-packages/dabl/plot/utils.py:621: UserWarning: Dropped 6 outliers in column Planned_Duration.\n",
      "  int(dropped), series.name), UserWarning)\n",
      "/Users/lawrence/DABL_Env/lib/python3.7/site-packages/dabl/plot/utils.py:621: UserWarning: Dropped 4 outliers in column Updated Date.\n",
      "  int(dropped), series.name), UserWarning)\n",
      "/Users/lawrence/DABL_Env/lib/python3.7/site-packages/dabl/plot/utils.py:621: UserWarning: Dropped 4 outliers in column Start_days_after_2000.\n",
      "  int(dropped), series.name), UserWarning)\n",
      "/Users/lawrence/DABL_Env/lib/python3.7/site-packages/dabl/plot/utils.py:364: UserWarning: FixedFormatter should only be used together with FixedLocator\n",
      "  for t in ax.get_xticklabels()]\n"
     ]
    },
    {
     "data": {
      "image/png": "[encoded data removed]",
      "text/plain": [
       "<Figure size 432x288 with 1 Axes>"
      ]
     },
     "metadata": {
      "needs_background": "light"
     },
     "output_type": "display_data"
    },
    {
     "data": {
      "image/png": "[encoded data removed]",
      "text/plain": [
       "<Figure size 1152x216 with 4 Axes>"
      ]
     },
     "metadata": {
      "needs_background": "light"
     },
     "output_type": "display_data"
    },
    {
     "data": {
      "image/png": "[encoded data removed]",
      "text/plain": [
       "<Figure size 288x360 with 1 Axes>"
      ]
     },
     "metadata": {
      "needs_background": "light"
     },
     "output_type": "display_data"
    }
   ],
   "source": [
    "dabl.plot(Stripped_for_cost_forecast,'Cost Variance ($ M)')"
   ]
  },
  {
   "cell_type": "code",
   "execution_count": 20,
   "metadata": {},
   "outputs": [],
   "source": [
    "# Could do a similar strip down for forecasting delay"
   ]
  },
  {
   "cell_type": "code",
   "execution_count": 21,
   "metadata": {},
   "outputs": [],
   "source": [
    "# did not bother with a DABL clean"
   ]
  },
  {
   "cell_type": "code",
   "execution_count": 22,
   "metadata": {},
   "outputs": [],
   "source": [
    "# Not bothering w classiifcation model for now"
   ]
  },
  {
   "cell_type": "markdown",
   "metadata": {},
   "source": [
    "## Train a regression"
   ]
  },
  {
   "cell_type": "code",
   "execution_count": 23,
   "metadata": {},
   "outputs": [],
   "source": [
    "Delay_regression_model=dabl.SimpleRegressor(random_state=0)"
   ]
  },
  {
   "cell_type": "code",
   "execution_count": 24,
   "metadata": {},
   "outputs": [],
   "source": [
    "X=Projects_Training.drop(['Project_delay','Cost Variance ($ M)','Unique Investment Identifier','Business Case ID','Agency Name','Investment Title','Project ID','Project Name','Start Date'],axis=1)"
   ]
  },
  {
   "cell_type": "code",
   "execution_count": 25,
   "metadata": {},
   "outputs": [],
   "source": [
    "y=Projects_Training['Project_delay']"
   ]
  },
  {
   "cell_type": "code",
   "execution_count": 26,
   "metadata": {},
   "outputs": [
    {
     "name": "stdout",
     "output_type": "stream",
     "text": [
      "Running DummyRegressor()\n",
      "r2: -0.009 neg_mean_squared_error: -215755.852\n",
      "=== new best DummyRegressor() (using r2):\n",
      "r2: -0.009 neg_mean_squared_error: -215755.852\n",
      "\n",
      "Running DecisionTreeRegressor(max_depth=1)\n",
      "r2: -0.086 neg_mean_squared_error: -226917.448\n",
      "Running DecisionTreeRegressor(max_depth=5)\n",
      "r2: -0.425 neg_mean_squared_error: -276607.244\n",
      "Running Ridge(alpha=10)\n",
      "r2: 0.050 neg_mean_squared_error: -205111.219\n",
      "=== new best Ridge(alpha=10) (using r2):\n",
      "r2: 0.050 neg_mean_squared_error: -205111.219\n",
      "\n",
      "Running Lasso(alpha=10)\n",
      "r2: 0.058 neg_mean_squared_error: -205306.111\n",
      "=== new best Lasso(alpha=10) (using r2):\n",
      "r2: 0.058 neg_mean_squared_error: -205306.111\n",
      "\n",
      "\n",
      "Best model:\n",
      "Lasso(alpha=10)\n",
      "Best Scores:\n",
      "r2: 0.058 neg_mean_squared_error: -205306.111\n"
     ]
    },
    {
     "data": {
      "text/plain": [
       "SimpleRegressor(random_state=0)"
      ]
     },
     "execution_count": 26,
     "metadata": {},
     "output_type": "execute_result"
    }
   ],
   "source": [
    "Delay_regression_model.fit(X,y)"
   ]
  },
  {
   "cell_type": "code",
   "execution_count": 27,
   "metadata": {},
   "outputs": [],
   "source": [
    "# not bothered w Cost regression because would get just as rubbish results"
   ]
  },
  {
   "cell_type": "markdown",
   "metadata": {},
   "source": [
    "## Export to CSV en route to Neo4j"
   ]
  },
  {
   "cell_type": "code",
   "execution_count": 28,
   "metadata": {},
   "outputs": [],
   "source": [
    "Projects=Projects.rename(columns={\"Agency Name\": \"Agency_Name\", \"Agency Code\":\"Agency_Code\",'Investment Title':'Investment_Title','Unique Investment Identifier':'Unique_Investment_Identifier','Project Name':'Project_Name','Project ID':'Project_ID','Start Date':'Start_Date', 'Cost Variance ($ M)':'Cost_Variance','Planned Cost ($ M)':'PlannedCost','Updated Date':'Updated_Date','Business Case ID':'Business_Case_ID'})  "
   ]
  },
  {
   "cell_type": "code",
   "execution_count": 29,
   "metadata": {},
   "outputs": [],
   "source": [
    "Projects.to_csv(directory+'Oxford_Projects_Out.csv', index=False)"
   ]
  },
  {
   "cell_type": "markdown",
   "metadata": {},
   "source": [
    "#Cypher code for Neo4j\n",
    "LOAD CSV WITH HEADERS FROM 'file:///Oxford_Projects_Out.csv' AS row\n",
    "MERGE (m:Agency {name:row.Agency_Name,Code:row.Agency_Code})\n",
    "MERGE (n:Investment {name:row.Investment_Title,Identifier:row.Unique_Investment_Identifier,Business_Case:row.Business_Case_ID})\n",
    "MERGE (o:Project {name:row.Project_Name,Id:row.Project_ID,Cost_Variance:toFloat(row.Cost_Variance),Planned_Cost:toFloat(row.PlannedCost),Updated_Date:toInteger(row.Updated_Date),Planned_Duration:toInteger(row.Planned_Duration),Project_delay:toInteger(row.Project_delay),Start_days_after_2000:toInteger(row.Start_days_after_2000)})\n",
    "MERGE (m)-[:invests]->(n)\n",
    "MERGE (n)-[:pays_for]->(o)"
   ]
  },
  {
   "cell_type": "markdown",
   "metadata": {},
   "source": [
    "# Pull in strategic investment information"
   ]
  },
  {
   "cell_type": "code",
   "execution_count": 31,
   "metadata": {},
   "outputs": [],
   "source": [
    "Strategy=pd.read_csv(directory+'Exhibit300A.csv', encoding= 'unicode_escape')"
   ]
  },
  {
   "cell_type": "code",
   "execution_count": 32,
   "metadata": {},
   "outputs": [],
   "source": [
    "Strategy=Strategy.drop(['Investment Title (Exhibit 53)','Investment Title (Exhibit 300)','Date of Last Change to Activities','Date of Last Update to Activities','Date of Last Update to Activities','Date of Last Update to Activities','Date of Last Change to Contracts','Date of Last Change to Performance Metrics','Date of Last Tech Stat','Budget Year','Date of Last Investment Detail Update','Investment Auto Submission Date'],axis=1)"
   ]
  },
  {
   "cell_type": "code",
   "execution_count": 33,
   "metadata": {},
   "outputs": [],
   "source": [
    "Strategy=Strategy.drop(['Data Freshness','Date of Last Change to CIO Evaluation','Date of Last Update to CIO Evaluation'],axis=1)"
   ]
  },
  {
   "cell_type": "code",
   "execution_count": 34,
   "metadata": {},
   "outputs": [],
   "source": [
    "Strategy=Strategy.drop(['IPT Charter Date','Date Investment First Submitted'],axis=1)"
   ]
  },
  {
   "cell_type": "code",
   "execution_count": 35,
   "metadata": {},
   "outputs": [],
   "source": [
    "Strategy=Strategy.drop(['Business Case ID'],axis=1)"
   ]
  },
  {
   "cell_type": "code",
   "execution_count": 36,
   "metadata": {},
   "outputs": [],
   "source": [
    "Strategy=Strategy.drop(['CIO Evaluation Color'],axis=1)"
   ]
  },
  {
   "cell_type": "code",
   "execution_count": 37,
   "metadata": {},
   "outputs": [],
   "source": [
    "Strategy['Date of Last Baseline']=Strategy['Date of Last Baseline'].astype('datetime64')"
   ]
  },
  {
   "cell_type": "code",
   "execution_count": 38,
   "metadata": {},
   "outputs": [],
   "source": [
    "Strategy=Strategy.dropna()"
   ]
  },
  {
   "cell_type": "code",
   "execution_count": 39,
   "metadata": {},
   "outputs": [],
   "source": [
    "Strategy=Strategy.rename(columns={'Agency Name':'Agency_Name',\"Bureau Name\": \"Bureau_Name\",'Bureau Code':'Bureau_Code','Number of changes to Baseline':'Number_of_changes_to_Baseline','Evaluation (by Agency CIO)':'Evalu)ation_by_CIO\"}'})"
   ]
  },
  {
   "cell_type": "code",
   "execution_count": 40,
   "metadata": {},
   "outputs": [],
   "source": [
    "Strategy=Strategy.rename(columns={'Evalu)ation_by_CIO\"}':'Evaluation_by_CIO','Date of Last Baseline':'Date_Last_Baseline'})"
   ]
  },
  {
   "cell_type": "markdown",
   "metadata": {},
   "source": [
    "## Run  a classification to predict how CIO rates investments"
   ]
  },
  {
   "cell_type": "code",
   "execution_count": 41,
   "metadata": {},
   "outputs": [],
   "source": [
    "Stripped_for_CIO_forecast=Strategy.drop(['Bureau_Name','Brief Summary','Summary of Performance Gap','Accomplishments PY','Accomplishments CY BY','Explanation of Change to PY or CY Funding','No EVM Explanation','CIO Evaluation Comments'],axis=1)"
   ]
  },
  {
   "cell_type": "code",
   "execution_count": null,
   "metadata": {},
   "outputs": [],
   "source": [
    "dabl.plot(Stripped_for_CIO_forecast,'Evaluation_by_CIO')"
   ]
  },
  {
   "cell_type": "code",
   "execution_count": null,
   "metadata": {},
   "outputs": [],
   "source": [
    "Investment_classification_model=dabl.SimpleClassifier (random_state=0)"
   ]
  },
  {
   "cell_type": "code",
   "execution_count": null,
   "metadata": {},
   "outputs": [],
   "source": [
    "X=Strategy.drop(['Evaluation_by_CIO','Bureau_Name','Brief Summary','Summary of Performance Gap','Accomplishments PY','Accomplishments CY BY','Explanation of Change to PY or CY Funding','No EVM Explanation','CIO Evaluation Comments'],axis=1)"
   ]
  },
  {
   "cell_type": "code",
   "execution_count": null,
   "metadata": {},
   "outputs": [],
   "source": [
    "y=Strategy[\"Evaluation_by_CIO\"]"
   ]
  },
  {
   "cell_type": "code",
   "execution_count": null,
   "metadata": {},
   "outputs": [],
   "source": [
    "Investment_classification_model.fit(X,y)"
   ]
  },
  {
   "cell_type": "code",
   "execution_count": null,
   "metadata": {},
   "outputs": [],
   "source": [
    "Contracts"
   ]
  },
  {
   "cell_type": "markdown",
   "metadata": {},
   "source": [
    "## Work out Data Structure as you go. \n",
    "## This results in the following Cypher code to be placed into Neo4j\n",
    "LOAD CSV WITH HEADERS FROM 'file:///Oxford_Strategy_Out.csv' AS row \n",
    "MERGE (m:Agency {Code:row.Agency_Code})\n",
    "MERGE (o:Bureau {Code:row.Bureau_Code,Name:row.Bureau_Name})\n",
    "MERGE (n:Investment {Identifier:row.Unique_Investment_Identifier})\n",
    "CREATE (m)-[:owns]->(o)\n",
    "CREATE (o)-[:responsible_for]->(n)\n",
    "SET n.Summary=row.Brief_Summary\n",
    "SET n.Performance_Gap=row.Summary_of_Performance_Gap\n",
    "SET n.Evaluation_by_CIO=row.Evaluation_by_CIO\n",
    "SET n.Changes_to_Baseline=row.Number_of_changes_to_Baseline\n",
    "SET n.Last_Baseline=row.Date_Last_Baseline\n",
    "\n",
    "LOAD CSV WITH HEADERS FROM 'file:///Oxford_Strategy_Out.csv' AS row \n",
    "MATCH (m:Agency {Code:row.Agency_Code})\n",
    "SET m.name = row.Agency_Name\n",
    "RETURN m\n",
    "\n",
    "\"MERGE matches on the entire pattern you specify within a single clause...The solution is to MERGE on the unique property and then use SET to update additional properties."
   ]
  },
  {
   "cell_type": "code",
   "execution_count": null,
   "metadata": {},
   "outputs": [],
   "source": [
    "Strategy=Strategy.rename(columns={'Unique Investment Identifier':'Unique_Investment_Identifier','Brief Summary':'Brief_Summary',\n",
    "'Summary of Performance Gap':'Summary_of_Performance_Gap','Agency Code':'Agency_Code'})"
   ]
  },
  {
   "cell_type": "code",
   "execution_count": null,
   "metadata": {},
   "outputs": [],
   "source": [
    "Strategy.to_csv(directory+'Oxford_Strategy_Out.csv', index=False)"
   ]
  },
  {
   "cell_type": "markdown",
   "metadata": {},
   "source": [
    "# Bring in Contracts file"
   ]
  },
  {
   "cell_type": "code",
   "execution_count": null,
   "metadata": {},
   "outputs": [],
   "source": [
    "Contracts=pd.read_csv(directory+'Contracts.csv', encoding= 'unicode_escape')"
   ]
  },
  {
   "cell_type": "code",
   "execution_count": null,
   "metadata": {},
   "outputs": [],
   "source": [
    "Contracts=Contracts.drop(['Business Case ID','Agency Code','Agency Name','Investment Title','Agency Contract ID','Contract Status','Contracting Agency ID','Contract Number (PIID)','Performance Based Contract (USAspending)','Contract Start Date (USAspending)','Contract End Date (USAspending)','Contract Compete (USAspending)','Base Contract ID (USAspending)'\n",
    "        ,'Identifying Agency ID (USAspending)','Transaction Number (USAspending)','Timestamp (Base Contract)'],axis=1)"
   ]
  },
  {
   "cell_type": "code",
   "execution_count": null,
   "metadata": {},
   "outputs": [],
   "source": [
    "Contracts=Contracts.drop(['IDV Agency ID','Match found in USAspending','Solicitation ID (USAspending)'],axis=1)"
   ]
  },
  {
   "cell_type": "code",
   "execution_count": null,
   "metadata": {},
   "outputs": [],
   "source": [
    "Contracts=Contracts.rename(columns={'Unique Investment Identifier':'Unique_Investment_Identifier','Contract ID':'Contract_ID','IDV PIID':'IDV_PIID','Vendor Name (USAspending)':'Vendor_name','Action Obligation Amount (In $ million) (USAspending)':'Contract_size','Contract Description (USAspending)':'Contract_Description'})"
   ]
  },
  {
   "cell_type": "markdown",
   "metadata": {},
   "source": [
    "## Start of training a model with data across two dataframes:\n",
    "**Do Suppliers predict CIO Evaluation success?**\n",
    "**Work in progress**"
   ]
  },
  {
   "cell_type": "code",
   "execution_count": null,
   "metadata": {},
   "outputs": [],
   "source": [
    "Contracts1=Contracts.drop(['Contract_ID','Contract_size','Contract_Description','Type of Contract (USAspending)','Timestamp (Contract)'],axis=1)"
   ]
  },
  {
   "cell_type": "code",
   "execution_count": null,
   "metadata": {},
   "outputs": [],
   "source": [
    "# Use merge or join to add CIO Evaluation in from Strategy DF, matching w Unique Investment Identifier. Then fit"
   ]
  },
  {
   "cell_type": "markdown",
   "metadata": {},
   "source": [
    "## Work out Data Structure as you go. \n",
    "## This results in the following Cypher code to be placed into Neo4j"
   ]
  },
  {
   "cell_type": "code",
   "execution_count": null,
   "metadata": {},
   "outputs": [],
   "source": [
    "Contracts=Contracts.dropna()"
   ]
  },
  {
   "cell_type": "code",
   "execution_count": null,
   "metadata": {},
   "outputs": [],
   "source": [
    "Contracts"
   ]
  },
  {
   "cell_type": "code",
   "execution_count": null,
   "metadata": {},
   "outputs": [],
   "source": [
    "Contracts.to_csv(directory+'Oxford_Contracts_Out.csv', index=False)"
   ]
  },
  {
   "cell_type": "code",
   "execution_count": null,
   "metadata": {},
   "outputs": [],
   "source": [
    "LOAD CSV WITH HEADERS FROM 'file:///Oxford_Contracts_Out.csv' AS row \n",
    "MERGE (m:Contract {ID:row.Contract_ID})\n",
    "MERGE (n:Investment {Identifier:row.Unique_Investment_Identifier})\n",
    "MERGE (o:Supplier {ID:row.IDV_PIID})\n",
    "SET m.Description=row.Contract_Description\n",
    "SET m.Contract_size=row.Contract_size\n",
    "SET o.name=row.Vendor_name\n",
    "CREATE (n)-[:lets_contract]->(m)\n",
    "CREATE (n)-[:uses_Supplier]->(o)\n",
    "CREATE (o)-[:delivers]->(m)\n"
   ]
  },
  {
   "cell_type": "markdown",
   "metadata": {},
   "source": [
    "# Bring in Metrics file"
   ]
  },
  {
   "cell_type": "code",
   "execution_count": null,
   "metadata": {},
   "outputs": [],
   "source": [
    "Metrics=pd.read_csv(directory+'Performance_Metrics.csv', encoding= 'unicode_escape')"
   ]
  },
  {
   "cell_type": "code",
   "execution_count": null,
   "metadata": {},
   "outputs": [],
   "source": [
    "Metrics=Metrics.drop(['Business Case ID','Agency Name','Agency Performance Metric ID','Comment','Updated Date','Updated Time','Reporting Frequency'],axis=1)"
   ]
  },
  {
   "cell_type": "code",
   "execution_count": null,
   "metadata": {},
   "outputs": [],
   "source": [
    "Metrics=Metrics.drop(['Target for PY','Actual for PY','Most Recent Actual Results','Measurement Condition'],axis=1)"
   ]
  },
  {
   "cell_type": "code",
   "execution_count": null,
   "metadata": {},
   "outputs": [],
   "source": [
    "Metrics=Metrics.rename(columns={'Unique Investment Identifier':'Unique_Investment_Identifier','Performance Metric ID':'Performance_Metric_ID','Metric Description':'Metric_Description','Unit of Measure':'Unit_of_Measure','FEA Performance Measurement Category Mapping':'Measurement_category','Actuals have Met/Not Met Target':'Metric_results'})"
   ]
  },
  {
   "cell_type": "code",
   "execution_count": null,
   "metadata": {},
   "outputs": [],
   "source": [
    "Metrics=Metrics.dropna()"
   ]
  },
  {
   "cell_type": "code",
   "execution_count": null,
   "metadata": {},
   "outputs": [],
   "source": [
    "Metrics['Agency Code']=Metrics['Agency Code'].astype('category')"
   ]
  },
  {
   "cell_type": "code",
   "execution_count": null,
   "metadata": {},
   "outputs": [],
   "source": [
    "Metrics"
   ]
  },
  {
   "cell_type": "markdown",
   "metadata": {},
   "source": [
    "## Run  a classification to see if one can predict KPI success"
   ]
  },
  {
   "cell_type": "code",
   "execution_count": null,
   "metadata": {},
   "outputs": [],
   "source": [
    "Stripped_for_KPI_forecast=Metrics.drop(['Performance_Metric_ID','Investment Title','Baseline','Target for CY'],axis=1)"
   ]
  },
  {
   "cell_type": "code",
   "execution_count": null,
   "metadata": {},
   "outputs": [],
   "source": [
    "dabl.plot(Stripped_for_KPI_forecast,'Metric_results')"
   ]
  },
  {
   "cell_type": "code",
   "execution_count": null,
   "metadata": {},
   "outputs": [],
   "source": [
    "Metric_classification_model=dabl.SimpleClassifier (random_state=0)"
   ]
  },
  {
   "cell_type": "code",
   "execution_count": null,
   "metadata": {},
   "outputs": [],
   "source": [
    "X=Metrics.drop(['Performance_Metric_ID','Investment Title','Baseline','Target for CY','Metric_results'],axis=1)"
   ]
  },
  {
   "cell_type": "code",
   "execution_count": null,
   "metadata": {},
   "outputs": [],
   "source": [
    "y=Metrics['Metric_results']"
   ]
  },
  {
   "cell_type": "code",
   "execution_count": null,
   "metadata": {},
   "outputs": [],
   "source": [
    "Metric_classification_model.fit(X,y)"
   ]
  },
  {
   "cell_type": "code",
   "execution_count": null,
   "metadata": {},
   "outputs": [],
   "source": [
    "Metrics.to_csv(directory+'Oxford_Metrics_Out.csv', index=False)"
   ]
  },
  {
   "cell_type": "markdown",
   "metadata": {},
   "source": [
    "from this, we know that Metric ID is unique\n",
    "constraint=(Metrics.duplicated(subset='Performance_Metric_ID', keep=False))==True\n",
    "Metrics[constraint]"
   ]
  },
  {
   "cell_type": "markdown",
   "metadata": {},
   "source": [
    "## Work out Data Structure as you go. \n",
    "## This results in the following Cypher code to be placed into Neo4j\n",
    "LOAD CSV WITH HEADERS FROM 'file:///Oxford_Metrics_Out.csv' AS row \n",
    "MERGE (m:Metric {ID:row.Performance_Metric_ID})\n",
    "MERGE (n:Investment {Identifier:row.Unique_Investment_Identifier})\n",
    "SET m.Description=row.Metric_Description\n",
    "SET m.Measurement_category=row.Measurement_category\n",
    "SET m.Metric_results=row.Metric_results\n",
    "MERGE (n)-[:judged_by]->(m)"
   ]
  },
  {
   "cell_type": "markdown",
   "metadata": {},
   "source": [
    "# Bring in Business Mapping"
   ]
  },
  {
   "cell_type": "code",
   "execution_count": null,
   "metadata": {},
   "outputs": [],
   "source": [
    "Mapping=pd.read_csv(directory+'Exhibit53.csv', encoding= 'unicode_escape')"
   ]
  },
  {
   "cell_type": "code",
   "execution_count": null,
   "metadata": {},
   "outputs": [],
   "source": [
    "Mapping=Mapping.drop(['Agency Code','Agency Name','Previous UPI','Investment Category','Bureau Code','Bureau Name','Part of Exhibit 53'],axis=1)"
   ]
  },
  {
   "cell_type": "code",
   "execution_count": null,
   "metadata": {},
   "outputs": [],
   "source": [
    "Mapping=Mapping.drop(['Mission Delivery And Management Support Area','Line Item Descriptor','Investment Title','Investment Description','Updated Date'],axis=1)"
   ]
  },
  {
   "cell_type": "code",
   "execution_count": null,
   "metadata": {},
   "outputs": [],
   "source": [
    "Mapping=Mapping.drop(['Budget Year','XML Request ID','Updated Time','O&M BY Contributions ($ M)','O&M BY Agency Funding ($ M)','O&M CY Contributions ($ M)'],axis=1)"
   ]
  },
  {
   "cell_type": "code",
   "execution_count": null,
   "metadata": {},
   "outputs": [],
   "source": [
    "Mapping=Mapping.drop(['O&M CY Agency Funding ($ M)','O&M PY Contributions ($ M)','O&M PY Agency Funding ($ M)','DME BY Contributions ($ M)'],axis=1)"
   ]
  },
  {
   "cell_type": "code",
   "execution_count": null,
   "metadata": {},
   "outputs": [],
   "source": [
    "Mapping=Mapping.drop(['Segment Architecture - Agency Segment','Total IT Spending FY2011 (PY) ($ M)','Total IT Spending FY2012 (CY) ($ M)'],axis=1)"
   ]
  },
  {
   "cell_type": "code",
   "execution_count": null,
   "metadata": {},
   "outputs": [],
   "source": [
    "Mapping=Mapping.drop(['DME PY Contributions ($ M)','DME CY Contributions ($ M)','DME BY Agency Funding ($ M)'],axis=1)"
   ]
  },
  {
   "cell_type": "code",
   "execution_count": null,
   "metadata": {},
   "outputs": [],
   "source": [
    "Mapping=Mapping.rename(columns={'Unique Investment Identifier':'Unique_Investment_Identifier','Type of Investment':'Investment_type'})"
   ]
  },
  {
   "cell_type": "code",
   "execution_count": null,
   "metadata": {},
   "outputs": [],
   "source": [
    "Mapping=Mapping.rename(columns={'FEA BRM Mapping - Sub-Function':'Sub-Function','FEA BRM Mapping - Primary Function':'Function','FEA BRM Mapping - Business Area':'Business_Area'})"
   ]
  },
  {
   "cell_type": "code",
   "execution_count": null,
   "metadata": {},
   "outputs": [],
   "source": [
    "Mapping=Mapping.rename(columns={'Service Code Mapping - Component':'Service_Component','Service Code Mapping - Primary Function':'Service','Function':'Business Function'})"
   ]
  },
  {
   "cell_type": "code",
   "execution_count": null,
   "metadata": {},
   "outputs": [],
   "source": [
    "Mapping=Mapping.rename(columns={'Service Code Mapping - Business Area':'Service Area','Segment Architecture - Federal Standard Segment':'Architecture_code'})"
   ]
  },
  {
   "cell_type": "code",
   "execution_count": null,
   "metadata": {},
   "outputs": [],
   "source": [
    "Mapping=Mapping.drop(['Total IT Spending FY2013 (BY) ($ M)','DME PY Agency Funding ($ M)'],axis=1)"
   ]
  },
  {
   "cell_type": "code",
   "execution_count": null,
   "metadata": {},
   "outputs": [],
   "source": [
    "Mapping=Mapping.rename(columns={'DME CY Agency Funding ($ M)':'Enhancement_spend_$m'})"
   ]
  },
  {
   "cell_type": "code",
   "execution_count": null,
   "metadata": {},
   "outputs": [],
   "source": [
    "Mapping=Mapping.rename(columns={'Enhancement_spend_$M)':'Enhancement_spend_$m'})"
   ]
  },
  {
   "cell_type": "code",
   "execution_count": null,
   "metadata": {},
   "outputs": [],
   "source": [
    "Mapping=Mapping.rename(columns={'Service Area':'Service_Area'})"
   ]
  },
  {
   "cell_type": "code",
   "execution_count": null,
   "metadata": {},
   "outputs": [],
   "source": [
    "Mapping=Mapping.rename(columns={'Business Function':'Business_Function'})"
   ]
  },
  {
   "cell_type": "code",
   "execution_count": null,
   "metadata": {},
   "outputs": [],
   "source": [
    "Mapping=Mapping.dropna()"
   ]
  },
  {
   "cell_type": "code",
   "execution_count": null,
   "metadata": {},
   "outputs": [],
   "source": [
    "Mapping.to_csv(directory+'Oxford_Mapping_Out.csv', index=False)"
   ]
  },
  {
   "cell_type": "markdown",
   "metadata": {},
   "source": [
    "## Code for Neo4j\n",
    "LOAD CSV WITH HEADERS FROM 'file:///Oxford_Mapping_Out.csv' AS row \n",
    "MERGE (n:Investment {Identifier:row.Unique_Investment_Identifier})\n",
    "SET n.Enhancement_spend_$m=toFloat(row.Enhancement_spend_$m)\n",
    "MERGE (o:Service {name:row.Service})\n",
    "MERGE (p:Business_Area {name:row.Business_Area})\n",
    "MERGE (q:Business_Function {name:row.Business_Function})\n",
    "SET n.Investment_type=row.Investment_type\n",
    "MERGE (n)-[:has_business_function]->(q)\n",
    "MERGE (q)-[:serves]->(p)\n",
    "MERGE (n)-[:is_a_type_of]->(o)"
   ]
  },
  {
   "cell_type": "markdown",
   "metadata": {},
   "source": [
    "# Bring in activities"
   ]
  },
  {
   "cell_type": "code",
   "execution_count": 172,
   "metadata": {},
   "outputs": [],
   "source": [
    "Activities=pd.read_csv(directory+'Activities.csv', encoding= 'unicode_escape')"
   ]
  },
  {
   "cell_type": "code",
   "execution_count": 173,
   "metadata": {},
   "outputs": [],
   "source": [
    "Activities=Activities.drop(['Agency Name','Business Case ID','Investment Title','Date of Last Change','Baseline ID'],axis=1)"
   ]
  },
  {
   "cell_type": "code",
   "execution_count": 174,
   "metadata": {},
   "outputs": [],
   "source": [
    "Activities=Activities.drop(['Cost Variance','Cost Variance Percent'],axis=1)"
   ]
  },
  {
   "cell_type": "code",
   "execution_count": 175,
   "metadata": {},
   "outputs": [],
   "source": [
    "# Cost Variance and Cost % are unreliable: they give different signs, so dropped"
   ]
  },
  {
   "cell_type": "code",
   "execution_count": 176,
   "metadata": {},
   "outputs": [],
   "source": [
    "Activities=Activities.drop(['Structure ID','Schedule Variance (in days)','Schedule Variance Percent','Schedule Duration (in days)'],axis=1)"
   ]
  },
  {
   "cell_type": "code",
   "execution_count": 177,
   "metadata": {},
   "outputs": [],
   "source": [
    "Activities=Activities.dropna(subset=['Unique Investment Identifier','Agency Code','Agency Activity ID','Project ID','Activity Name','Start Date Planned','Completion Date Planned',\n",
    "                                     'Total Costs Planned','Activity Status','Has No Child Activity','Date of Last Update','Unique Activity ID'])"
   ]
  },
  {
   "cell_type": "code",
   "execution_count": 178,
   "metadata": {},
   "outputs": [],
   "source": [
    "Activities=Activities.drop(['Agency Activity ID'],axis=1)"
   ]
  },
  {
   "cell_type": "code",
   "execution_count": 179,
   "metadata": {},
   "outputs": [],
   "source": [
    "Activities['Start Date Planned'] = pd.to_datetime(Activities['Start Date Planned'])\n",
    "Activities['Start Date Projected'] = pd.to_datetime(Activities['Start Date Projected'])\n",
    "Activities['Start Date Actual'] = pd.to_datetime(Activities['Start Date Actual'])\n",
    "Activities['Completion Date Planned'] = pd.to_datetime(Activities['Completion Date Planned'])\n",
    "Activities['Completion Date Projected'] = pd.to_datetime(Activities['Completion Date Projected'])\n",
    "Activities['Completion Date Actual'] = pd.to_datetime(Activities['Completion Date Actual'])"
   ]
  },
  {
   "cell_type": "code",
   "execution_count": 180,
   "metadata": {},
   "outputs": [],
   "source": [
    "Activities['Planned_Duration']=np.subtract(Activities['Completion Date Planned'],Activities['Start Date Planned'])"
   ]
  },
  {
   "cell_type": "code",
   "execution_count": 181,
   "metadata": {},
   "outputs": [],
   "source": [
    "Activities=Activities.drop('Completion Date Planned',axis=1)"
   ]
  },
  {
   "cell_type": "code",
   "execution_count": 182,
   "metadata": {},
   "outputs": [],
   "source": [
    "Activities['Actual_duration']=np.subtract(Activities['Completion Date Actual'],Activities['Start Date Actual'])\n",
    "Activities['Actual_start_delay']=np.subtract(Activities['Start Date Actual'],Activities['Start Date Planned'])"
   ]
  },
  {
   "cell_type": "code",
   "execution_count": 183,
   "metadata": {},
   "outputs": [],
   "source": [
    "Activities=Activities.drop(['Start Date Actual','Completion Date Actual'],axis=1)"
   ]
  },
  {
   "cell_type": "code",
   "execution_count": 184,
   "metadata": {},
   "outputs": [
    {
     "data": {
      "text/plain": [
       "<matplotlib.collections.PathCollection at 0x12addd690>"
      ]
     },
     "execution_count": 184,
     "metadata": {},
     "output_type": "execute_result"
    },
    {
     "data": {
      "image/png": "[encoded data removed]",
      "text/plain": [
       "<Figure size 432x288 with 1 Axes>"
      ]
     },
     "metadata": {
      "needs_background": "light"
     },
     "output_type": "display_data"
    }
   ],
   "source": [
    "# This shows that a project may well start early or late\n",
    "plt.scatter (Activities['Start Date Planned'],Activities['Start Date Projected'])"
   ]
  },
  {
   "cell_type": "code",
   "execution_count": 185,
   "metadata": {},
   "outputs": [],
   "source": [
    "# similar holds for these\n",
    "# plt.scatter (Activities['Start Date Planned'],Activities['Start Date Actual'])\n",
    "# plt.scatter (Activities['Start Date Projected'],Activities['Start Date Actual'])"
   ]
  },
  {
   "cell_type": "code",
   "execution_count": 186,
   "metadata": {},
   "outputs": [],
   "source": [
    "Training_set=Activities[Activities['Activity Status']=='Completed - Closed']\n",
    "Run_time_set=Activities[Activities['Activity Status']=='In-progress']"
   ]
  },
  {
   "cell_type": "code",
   "execution_count": null,
   "metadata": {},
   "outputs": [],
   "source": [
    "Training_set['Cost_increase_%']=np.divide(np.subtract(Training_set['Total Costs Actual'],Training_set['Total Costs Planned']),Training_set['Total Costs Planned'])\n",
    "Training_set['Schedule_increase_%']=np.divide(np.subtract(Training_set['Actual_duration'],Training_set['Planned_Duration']),Training_set['Planned_Duration'])"
   ]
  },
  {
   "cell_type": "code",
   "execution_count": 188,
   "metadata": {},
   "outputs": [],
   "source": [
    "Activities=Activities.drop(['Total Costs Actual'],axis=1)\n",
    "Training_set=Training_set.drop(['Total Costs Actual'],axis=1)"
   ]
  },
  {
   "cell_type": "code",
   "execution_count": 189,
   "metadata": {},
   "outputs": [],
   "source": [
    "Training_set=Training_set.dropna()"
   ]
  },
  {
   "cell_type": "code",
   "execution_count": 190,
   "metadata": {},
   "outputs": [],
   "source": [
    "# Switched these off as they arent recognised as float. but below makes it look like good percentage\n",
    "# Training_set['Cost_increase_%'] = pd.Series([\"{0:.2f}%\".format(val * 100) for val in Training_set['Cost_increase_%']], index = Training_set.index)\n",
    "# Training_set['Schedule_increase_%'] = pd.Series([\"{0:.2f}%\".format(val * 100) for val in Training_set['Schedule_increase_%']], index = Training_set.index)"
   ]
  },
  {
   "cell_type": "code",
   "execution_count": null,
   "metadata": {},
   "outputs": [],
   "source": [
    "# to run this again, need to run the % format box just above\n",
    "plt.scatter(Training_set['Schedule_increase_%'],Training_set['Cost_increase_%'])"
   ]
  },
  {
   "cell_type": "code",
   "execution_count": 192,
   "metadata": {},
   "outputs": [],
   "source": [
    "Training_set['Planned_Duration']=Training_set['Planned_Duration'].dt.days\n",
    "Training_set['Actual_duration']=Training_set['Actual_duration'].dt.days\n",
    "Training_set['Actual_start_delay']=Training_set['Actual_start_delay'].dt.days"
   ]
  },
  {
   "cell_type": "code",
   "execution_count": 193,
   "metadata": {},
   "outputs": [],
   "source": [
    "Training_set=Training_set[Training_set['Cost_increase_%']<100]"
   ]
  },
  {
   "cell_type": "code",
   "execution_count": 194,
   "metadata": {},
   "outputs": [],
   "source": [
    "Training_set=Training_set[Training_set['Schedule_increase_%']<100]       "
   ]
  },
  {
   "cell_type": "code",
   "execution_count": 197,
   "metadata": {},
   "outputs": [],
   "source": [
    "Training_set1=Training_set.drop(['Activity Name','Activity Description','Total Costs Projected','Start Date Projected','Date of Last Update','Unique Activity ID'],axis=1)"
   ]
  },
  {
   "cell_type": "code",
   "execution_count": 199,
   "metadata": {},
   "outputs": [],
   "source": [
    "Training_set1=Training_set1.drop(['Completion Date Projected'],axis=1)"
   ]
  },
  {
   "cell_type": "code",
   "execution_count": 210,
   "metadata": {},
   "outputs": [],
   "source": [
    "Training_set1['Project ID']=Training_set1['Project ID'].astype('category')"
   ]
  },
  {
   "cell_type": "code",
   "execution_count": 224,
   "metadata": {},
   "outputs": [],
   "source": [
    "Training_set1['Start Date Planned']=(Training_set1['Start Date Planned']-pd.to_datetime('1/1/2000')).dt.days #now days after 2000"
   ]
  },
  {
   "cell_type": "code",
   "execution_count": 229,
   "metadata": {},
   "outputs": [],
   "source": [
    "Training_set1=Training_set1.drop('Actual_duration',axis=1)"
   ]
  },
  {
   "cell_type": "code",
   "execution_count": 231,
   "metadata": {},
   "outputs": [],
   "source": [
    "#dabl.plot(Training_set1.drop(['Cost_increase_%','Schedule_increase_%'],axis=1),Training_set1['Cost_increase_%'])"
   ]
  },
  {
   "cell_type": "code",
   "execution_count": 234,
   "metadata": {},
   "outputs": [],
   "source": [
    "#dabl.plot(Training_set1.drop(['Cost_increase_%','Schedule_increase_%'],axis=1),Training_set1['Schedule_increase_%'])"
   ]
  },
  {
   "cell_type": "code",
   "execution_count": 236,
   "metadata": {},
   "outputs": [],
   "source": [
    "Schedule_Activities_regression_model=dabl.SimpleRegressor (random_state=0)\n",
    "X=Training_set1.drop(['Cost_increase_%','Schedule_increase_%'],axis=1)"
   ]
  },
  {
   "cell_type": "code",
   "execution_count": null,
   "metadata": {},
   "outputs": [],
   "source": [
    "y=Training_set1['Schedule_increase_%']\n",
    "Schedule_Activities_regression_model.fit(X,y)"
   ]
  },
  {
   "cell_type": "code",
   "execution_count": 239,
   "metadata": {},
   "outputs": [],
   "source": [
    "Cost_Activities_regression_model=dabl.SimpleRegressor (random_state=0)\n",
    "X=Training_set1.drop(['Cost_increase_%','Schedule_increase_%'],axis=1)"
   ]
  },
  {
   "cell_type": "code",
   "execution_count": null,
   "metadata": {},
   "outputs": [],
   "source": [
    "y=Training_set1['Cost_increase_%']\n",
    "Cost_Activities_regression_model.fit(X,y)"
   ]
  },
  {
   "cell_type": "code",
   "execution_count": 242,
   "metadata": {},
   "outputs": [],
   "source": [
    "Activities=Activities.rename(columns={'Unique Investment Identifier':'Unique_Investment_Identifier','Project ID':'Project_ID','Activity Name':'Activity_Name','Activity Description':'Activity Description','Key Deliverable / Usable Functionality':'Output_type','Start Date Planned':'Start Date Planned','Total Costs Planned':'Planned_Costs','Activity Status':'Status','Has No Child Activity':'No_Child_Activity','Unique Activity ID':'ID'})"
   ]
  },
  {
   "cell_type": "code",
   "execution_count": 245,
   "metadata": {},
   "outputs": [],
   "source": [
    "Activities=Activities.drop(['Unique_Investment_Identifier','Agency Code','Start Date Projected','Start Date Projected'],axis=1)"
   ]
  },
  {
   "cell_type": "code",
   "execution_count": 247,
   "metadata": {},
   "outputs": [],
   "source": [
    "Activities=Activities.rename(columns={'Activity Description':'Description'})"
   ]
  },
  {
   "cell_type": "code",
   "execution_count": 250,
   "metadata": {},
   "outputs": [],
   "source": [
    "Activities=Activities.rename(columns={'Start Date Planned':'Start_Date_Planned'})"
   ]
  },
  {
   "cell_type": "markdown",
   "metadata": {},
   "source": [
    "## Code for Neo4j\n",
    "LOAD CSV WITH HEADERS FROM 'file:///Oxford_Activities_Out.csv' AS row \n",
    "MERGE (n:Project {Id:row.Project_ID})\n",
    "MERGE (o:Activity {Id:row.ID})\n",
    "SET o.name=row.Activity_Name\n",
    "SET o.description=row.Description\n",
    "SET o.output_type=row.Output_type\n",
    "SET o.planned_Costs=row.Planned_Costs\n",
    "SET o.status=row.Status\n",
    "SET o.No_Child_Activity=row.No_Child_Activity\n",
    "SET o.Planned_Duration=row.Planned_Duration\n",
    "SET o.Actual_duration=row.Actual_duration\n",
    "SET o.Actual_start_delay=row.Actual_start_delay\n",
    "SET o.Start_Date_Planned=row.Start_Date_Planned\n",
    "MERGE (n)-[:has_task]->(o)\n",
    "\n",
    "# This is the additional code to take subgraph, as a query, to export Cypher code, say for populating a Sandbox\n",
    "CALL apoc.export.cypher.query(\n",
    "\"MATCH (n:Bureau)-[a]-(o:Investment)-[b]-(p:Project)-[c]-(q:Activity),(o)-[d]-(r:Service),(o)-[e]-(s:Business_Function)-[f]-(t:Business_Area),(o)-[g]-(u:Metric),(o)-[h]-(v:Agency) WHERE n.Name='Small Business Administration' OR  RETURN *\",\"export.cypher\",{});"
   ]
  },
  {
   "cell_type": "code",
   "execution_count": 251,
   "metadata": {},
   "outputs": [],
   "source": [
    "Activities.to_csv(directory+'Oxford_Activities_Out.csv', index=False)"
   ]
  },
  {
   "cell_type": "code",
   "execution_count": 252,
   "metadata": {},
   "outputs": [
    {
     "data": {
      "text/html": [
       "<div>\n",
       "<style scoped>\n",
       "    .dataframe tbody tr th:only-of-type {\n",
       "        vertical-align: middle;\n",
       "    }\n",
       "\n",
       "    .dataframe tbody tr th {\n",
       "        vertical-align: top;\n",
       "    }\n",
       "\n",
       "    .dataframe thead th {\n",
       "        text-align: right;\n",
       "    }\n",
       "</style>\n",
       "<table border=\"1\" class=\"dataframe\">\n",
       "  <thead>\n",
       "    <tr style=\"text-align: right;\">\n",
       "      <th></th>\n",
       "      <th>Project_ID</th>\n",
       "      <th>Activity_Name</th>\n",
       "      <th>Description</th>\n",
       "      <th>Output_type</th>\n",
       "      <th>Start_Date_Planned</th>\n",
       "      <th>Completion Date Projected</th>\n",
       "      <th>Planned_Costs</th>\n",
       "      <th>Total Costs Projected</th>\n",
       "      <th>Status</th>\n",
       "      <th>No_Child_Activity</th>\n",
       "      <th>Date of Last Update</th>\n",
       "      <th>ID</th>\n",
       "      <th>Planned_Duration</th>\n",
       "      <th>Actual_duration</th>\n",
       "      <th>Actual_start_delay</th>\n",
       "    </tr>\n",
       "  </thead>\n",
       "  <tbody>\n",
       "    <tr>\n",
       "      <th>0</th>\n",
       "      <td>2</td>\n",
       "      <td>Deploy to 2,500 Users</td>\n",
       "      <td>Enterprise Deployment to 2,500 users</td>\n",
       "      <td>Usable Functionality</td>\n",
       "      <td>2011-10-01</td>\n",
       "      <td>2012-02-29</td>\n",
       "      <td>2.3750</td>\n",
       "      <td>0.2990</td>\n",
       "      <td>Completed - Closed</td>\n",
       "      <td>1</td>\n",
       "      <td>04/30/2012</td>\n",
       "      <td>6</td>\n",
       "      <td>151 days</td>\n",
       "      <td>424 days</td>\n",
       "      <td>-273 days</td>\n",
       "    </tr>\n",
       "    <tr>\n",
       "      <th>1</th>\n",
       "      <td>2</td>\n",
       "      <td>Deploy to 12,000 Users</td>\n",
       "      <td>Enterprise Deployment to 12,000 users</td>\n",
       "      <td>Usable Functionality</td>\n",
       "      <td>2012-03-01</td>\n",
       "      <td>2012-09-29</td>\n",
       "      <td>2.3750</td>\n",
       "      <td>2.3750</td>\n",
       "      <td>In-progress</td>\n",
       "      <td>1</td>\n",
       "      <td>04/30/2012</td>\n",
       "      <td>7</td>\n",
       "      <td>212 days</td>\n",
       "      <td>NaT</td>\n",
       "      <td>0 days</td>\n",
       "    </tr>\n",
       "    <tr>\n",
       "      <th>2</th>\n",
       "      <td>2</td>\n",
       "      <td>Windows 7/Office 2010 Delta Operational Test a...</td>\n",
       "      <td>Engineer, Test, and Deploy a standard CBP imag...</td>\n",
       "      <td>Usable Functionality</td>\n",
       "      <td>2011-07-01</td>\n",
       "      <td>2011-09-30</td>\n",
       "      <td>1.5000</td>\n",
       "      <td>1.5000</td>\n",
       "      <td>Completed - Closed</td>\n",
       "      <td>1</td>\n",
       "      <td>04/30/2012</td>\n",
       "      <td>8</td>\n",
       "      <td>91 days</td>\n",
       "      <td>77 days</td>\n",
       "      <td>14 days</td>\n",
       "    </tr>\n",
       "    <tr>\n",
       "      <th>3</th>\n",
       "      <td>3</td>\n",
       "      <td>System Release 2.5</td>\n",
       "      <td>Bug/Fix, Data Sources added</td>\n",
       "      <td>Usable Functionality</td>\n",
       "      <td>2011-07-23</td>\n",
       "      <td>2011-10-21</td>\n",
       "      <td>5.1000</td>\n",
       "      <td>5.1000</td>\n",
       "      <td>Completed - Closed</td>\n",
       "      <td>1</td>\n",
       "      <td>08/22/2012</td>\n",
       "      <td>9</td>\n",
       "      <td>92 days</td>\n",
       "      <td>90 days</td>\n",
       "      <td>0 days</td>\n",
       "    </tr>\n",
       "    <tr>\n",
       "      <th>4</th>\n",
       "      <td>3</td>\n",
       "      <td>System Release 3.0</td>\n",
       "      <td>IntelView and Collaboration functionality</td>\n",
       "      <td>Usable Functionality</td>\n",
       "      <td>2011-10-24</td>\n",
       "      <td>2012-01-22</td>\n",
       "      <td>6.8500</td>\n",
       "      <td>6.8500</td>\n",
       "      <td>Completed - Closed</td>\n",
       "      <td>1</td>\n",
       "      <td>08/22/2012</td>\n",
       "      <td>10</td>\n",
       "      <td>90 days</td>\n",
       "      <td>88 days</td>\n",
       "      <td>0 days</td>\n",
       "    </tr>\n",
       "    <tr>\n",
       "      <th>...</th>\n",
       "      <td>...</td>\n",
       "      <td>...</td>\n",
       "      <td>...</td>\n",
       "      <td>...</td>\n",
       "      <td>...</td>\n",
       "      <td>...</td>\n",
       "      <td>...</td>\n",
       "      <td>...</td>\n",
       "      <td>...</td>\n",
       "      <td>...</td>\n",
       "      <td>...</td>\n",
       "      <td>...</td>\n",
       "      <td>...</td>\n",
       "      <td>...</td>\n",
       "      <td>...</td>\n",
       "    </tr>\n",
       "    <tr>\n",
       "      <th>11439</th>\n",
       "      <td>3257</td>\n",
       "      <td>TRS CIR name change</td>\n",
       "      <td>TRS CIR name change</td>\n",
       "      <td>Key Deliverable</td>\n",
       "      <td>2012-04-01</td>\n",
       "      <td>2013-03-31</td>\n",
       "      <td>0.7450</td>\n",
       "      <td>0.7450</td>\n",
       "      <td>In-progress</td>\n",
       "      <td>1</td>\n",
       "      <td>07/31/2012</td>\n",
       "      <td>15743</td>\n",
       "      <td>364 days</td>\n",
       "      <td>NaT</td>\n",
       "      <td>0 days</td>\n",
       "    </tr>\n",
       "    <tr>\n",
       "      <th>11440</th>\n",
       "      <td>3257</td>\n",
       "      <td>TRS FMS Reports</td>\n",
       "      <td>TRS FMS Reports</td>\n",
       "      <td>Key Deliverable</td>\n",
       "      <td>2012-02-01</td>\n",
       "      <td>2013-01-31</td>\n",
       "      <td>0.9560</td>\n",
       "      <td>0.9560</td>\n",
       "      <td>In-progress</td>\n",
       "      <td>1</td>\n",
       "      <td>07/31/2012</td>\n",
       "      <td>15745</td>\n",
       "      <td>365 days</td>\n",
       "      <td>NaT</td>\n",
       "      <td>0 days</td>\n",
       "    </tr>\n",
       "    <tr>\n",
       "      <th>11443</th>\n",
       "      <td>3259</td>\n",
       "      <td>CIR Open Source Connectivity Solution</td>\n",
       "      <td>CIR Open Source Connectivity Solution</td>\n",
       "      <td>Key Deliverable</td>\n",
       "      <td>2012-01-01</td>\n",
       "      <td>2014-09-30</td>\n",
       "      <td>0.4410</td>\n",
       "      <td>0.4410</td>\n",
       "      <td>In-progress</td>\n",
       "      <td>1</td>\n",
       "      <td>07/31/2012</td>\n",
       "      <td>15751</td>\n",
       "      <td>1003 days</td>\n",
       "      <td>NaT</td>\n",
       "      <td>0 days</td>\n",
       "    </tr>\n",
       "    <tr>\n",
       "      <th>11455</th>\n",
       "      <td>3265</td>\n",
       "      <td>CARI 2.0 - Define, Design &amp; Devlop</td>\n",
       "      <td>During this phase the team will define the sco...</td>\n",
       "      <td>Key Deliverable</td>\n",
       "      <td>2012-05-15</td>\n",
       "      <td>2012-09-18</td>\n",
       "      <td>0.2410</td>\n",
       "      <td>0.2410</td>\n",
       "      <td>In-progress</td>\n",
       "      <td>1</td>\n",
       "      <td>08/31/2012</td>\n",
       "      <td>15775</td>\n",
       "      <td>126 days</td>\n",
       "      <td>NaT</td>\n",
       "      <td>0 days</td>\n",
       "    </tr>\n",
       "    <tr>\n",
       "      <th>11565</th>\n",
       "      <td>1461</td>\n",
       "      <td>PROJ: LAS Port - Port Phase 1</td>\n",
       "      <td>Migrate data for Worpackages 1 through 4</td>\n",
       "      <td>Key Deliverable</td>\n",
       "      <td>2012-07-02</td>\n",
       "      <td>2012-11-20</td>\n",
       "      <td>0.5567</td>\n",
       "      <td>0.5567</td>\n",
       "      <td>In-progress</td>\n",
       "      <td>1</td>\n",
       "      <td>08/31/2012</td>\n",
       "      <td>15995</td>\n",
       "      <td>141 days</td>\n",
       "      <td>NaT</td>\n",
       "      <td>0 days</td>\n",
       "    </tr>\n",
       "  </tbody>\n",
       "</table>\n",
       "<p>3827 rows × 15 columns</p>\n",
       "</div>"
      ],
      "text/plain": [
       "       Project_ID                                      Activity_Name  \\\n",
       "0               2                              Deploy to 2,500 Users   \n",
       "1               2                             Deploy to 12,000 Users   \n",
       "2               2  Windows 7/Office 2010 Delta Operational Test a...   \n",
       "3               3                                 System Release 2.5   \n",
       "4               3                                 System Release 3.0   \n",
       "...           ...                                                ...   \n",
       "11439        3257                                TRS CIR name change   \n",
       "11440        3257                                    TRS FMS Reports   \n",
       "11443        3259              CIR Open Source Connectivity Solution   \n",
       "11455        3265                 CARI 2.0 - Define, Design & Devlop   \n",
       "11565        1461                      PROJ: LAS Port - Port Phase 1   \n",
       "\n",
       "                                             Description  \\\n",
       "0                   Enterprise Deployment to 2,500 users   \n",
       "1                  Enterprise Deployment to 12,000 users   \n",
       "2      Engineer, Test, and Deploy a standard CBP imag...   \n",
       "3                            Bug/Fix, Data Sources added   \n",
       "4              IntelView and Collaboration functionality   \n",
       "...                                                  ...   \n",
       "11439                                TRS CIR name change   \n",
       "11440                                    TRS FMS Reports   \n",
       "11443              CIR Open Source Connectivity Solution   \n",
       "11455  During this phase the team will define the sco...   \n",
       "11565           Migrate data for Worpackages 1 through 4   \n",
       "\n",
       "                Output_type Start_Date_Planned Completion Date Projected  \\\n",
       "0      Usable Functionality         2011-10-01                2012-02-29   \n",
       "1      Usable Functionality         2012-03-01                2012-09-29   \n",
       "2      Usable Functionality         2011-07-01                2011-09-30   \n",
       "3      Usable Functionality         2011-07-23                2011-10-21   \n",
       "4      Usable Functionality         2011-10-24                2012-01-22   \n",
       "...                     ...                ...                       ...   \n",
       "11439       Key Deliverable         2012-04-01                2013-03-31   \n",
       "11440       Key Deliverable         2012-02-01                2013-01-31   \n",
       "11443       Key Deliverable         2012-01-01                2014-09-30   \n",
       "11455       Key Deliverable         2012-05-15                2012-09-18   \n",
       "11565       Key Deliverable         2012-07-02                2012-11-20   \n",
       "\n",
       "       Planned_Costs  Total Costs Projected              Status  \\\n",
       "0             2.3750                 0.2990  Completed - Closed   \n",
       "1             2.3750                 2.3750         In-progress   \n",
       "2             1.5000                 1.5000  Completed - Closed   \n",
       "3             5.1000                 5.1000  Completed - Closed   \n",
       "4             6.8500                 6.8500  Completed - Closed   \n",
       "...              ...                    ...                 ...   \n",
       "11439         0.7450                 0.7450         In-progress   \n",
       "11440         0.9560                 0.9560         In-progress   \n",
       "11443         0.4410                 0.4410         In-progress   \n",
       "11455         0.2410                 0.2410         In-progress   \n",
       "11565         0.5567                 0.5567         In-progress   \n",
       "\n",
       "       No_Child_Activity Date of Last Update     ID Planned_Duration  \\\n",
       "0                      1          04/30/2012      6         151 days   \n",
       "1                      1          04/30/2012      7         212 days   \n",
       "2                      1          04/30/2012      8          91 days   \n",
       "3                      1          08/22/2012      9          92 days   \n",
       "4                      1          08/22/2012     10          90 days   \n",
       "...                  ...                 ...    ...              ...   \n",
       "11439                  1          07/31/2012  15743         364 days   \n",
       "11440                  1          07/31/2012  15745         365 days   \n",
       "11443                  1          07/31/2012  15751        1003 days   \n",
       "11455                  1          08/31/2012  15775         126 days   \n",
       "11565                  1          08/31/2012  15995         141 days   \n",
       "\n",
       "      Actual_duration Actual_start_delay  \n",
       "0            424 days          -273 days  \n",
       "1                 NaT             0 days  \n",
       "2             77 days            14 days  \n",
       "3             90 days             0 days  \n",
       "4             88 days             0 days  \n",
       "...               ...                ...  \n",
       "11439             NaT             0 days  \n",
       "11440             NaT             0 days  \n",
       "11443             NaT             0 days  \n",
       "11455             NaT             0 days  \n",
       "11565             NaT             0 days  \n",
       "\n",
       "[3827 rows x 15 columns]"
      ]
     },
     "execution_count": 252,
     "metadata": {},
     "output_type": "execute_result"
    }
   ],
   "source": [
    "Activities"
   ]
  },
  {
   "cell_type": "code",
   "execution_count": null,
   "metadata": {},
   "outputs": [],
   "source": []
  }
 ],
 "metadata": {
  "kernelspec": {
   "display_name": "Python 3",
   "language": "python",
   "name": "python3"
  },
  "language_info": {
   "codemirror_mode": {
    "name": "ipython",
    "version": 3
   },
   "file_extension": ".py",
   "mimetype": "text/x-python",
   "name": "python",
   "nbconvert_exporter": "python",
   "pygments_lexer": "ipython3",
   "version": "3.8.5"
  }
 },
 "nbformat": 4,
 "nbformat_minor": 4
}
